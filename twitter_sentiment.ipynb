{
 "cells": [
  {
   "cell_type": "code",
   "execution_count": 1,
   "metadata": {},
   "outputs": [],
   "source": [
    "# !pip install vaderSentiment\n",
    "import tweepy\n",
    "import json\n",
    "import pandas as pd\n",
    "import os\n",
    "import matplotlib.pyplot as plt\n",
    "import numpy as np\n",
    "from scipy.stats import linregress\n",
    "\n",
    "#Import sentiment analyzer\n",
    "from vaderSentiment.vaderSentiment import SentimentIntensityAnalyzer\n",
    "from api_keys import consumer_key, consumer_secret, access_token, access_token_secret\n",
    "#\n",
    "analyzer = SentimentIntensityAnalyzer()"
   ]
  },
  {
   "cell_type": "code",
   "execution_count": 2,
   "metadata": {},
   "outputs": [],
   "source": [
    "#Instantiate Authentication / Wrapper\n",
    "auth = tweepy.OAuthHandler(consumer_key, consumer_secret)\n",
    "auth.set_access_token(access_token, access_token_secret)\n",
    "api = tweepy.API(auth)"
   ]
  },
  {
   "cell_type": "code",
   "execution_count": 3,
   "metadata": {},
   "outputs": [],
   "source": [
    "#Observe 5 different Twitter accounts from Major Media\n",
    "handles = ['BBC', 'CBSNews', 'CNN', 'FoxNews', 'nytimes']"
   ]
  },
  {
   "cell_type": "code",
   "execution_count": 4,
   "metadata": {},
   "outputs": [],
   "source": [
    "#Create Empty Lists for Tweets\n",
    "tweets = []\n",
    "name = []\n",
    "full_text = []"
   ]
  },
  {
   "cell_type": "code",
   "execution_count": 5,
   "metadata": {},
   "outputs": [],
   "source": [
    "#Loop through handles and compile last 100 tweets from each\n",
    "for i in handles:\n",
    "    tweets = tweepy.Cursor(api.user_timeline, i, tweet_mode='extended').items(100)\n",
    "    for j in tweets:\n",
    "        name.append(j.author.name)\n",
    "        full_text.append(j.full_text)"
   ]
  },
  {
   "cell_type": "code",
   "execution_count": 6,
   "metadata": {},
   "outputs": [
    {
     "data": {
      "text/html": [
       "<div>\n",
       "<style scoped>\n",
       "    .dataframe tbody tr th:only-of-type {\n",
       "        vertical-align: middle;\n",
       "    }\n",
       "\n",
       "    .dataframe tbody tr th {\n",
       "        vertical-align: top;\n",
       "    }\n",
       "\n",
       "    .dataframe thead th {\n",
       "        text-align: right;\n",
       "    }\n",
       "</style>\n",
       "<table border=\"1\" class=\"dataframe\">\n",
       "  <thead>\n",
       "    <tr style=\"text-align: right;\">\n",
       "      <th></th>\n",
       "      <th>Name</th>\n",
       "      <th>Tweet Text</th>\n",
       "    </tr>\n",
       "  </thead>\n",
       "  <tbody>\n",
       "    <tr>\n",
       "      <td>0</td>\n",
       "      <td>BBC</td>\n",
       "      <td>Hugh Laurie and Helen McCrory star in a brand new political thriller…\\n \\n#Roadkill, coming soon to @BBCOne and @BBCiPlayer.\\nhttps://t.co/ou7Qt84sUh</td>\n",
       "    </tr>\n",
       "    <tr>\n",
       "      <td>1</td>\n",
       "      <td>BBC</td>\n",
       "      <td>These specially trained sniffer dogs in Lebanon are learning to detect Covid-19 🐶\\nhttps://t.co/9qx0xfvnmj</td>\n",
       "    </tr>\n",
       "    <tr>\n",
       "      <td>2</td>\n",
       "      <td>BBC</td>\n",
       "      <td>RT @BBCCiN: Here's a sneak peak at our special short film, coming 15 October @BBCOne 🔜 https://t.co/DevFP5ecxT</td>\n",
       "    </tr>\n",
       "    <tr>\n",
       "      <td>3</td>\n",
       "      <td>BBC</td>\n",
       "      <td>\"More than 12 million Africans were trafficked. More than 2 million died en route. We thought it was worth telling that story.\"\\n\\nIn a new series, @SamuelLJackson and @afuahirsch explore 400 years of slavery.\\n\\nEnslaved with Samuel L. Jackson | @BBCiPlayer.\\nhttps://t.co/DUFuUhPpmA</td>\n",
       "    </tr>\n",
       "    <tr>\n",
       "      <td>4</td>\n",
       "      <td>BBC</td>\n",
       "      <td>.@SamuelLJackson pieces together the beginnings and methods of the trans-Atlantic slave trade – a business that thrived for over 400 years.\\n\\n#Enslaved | 9pm | @BBCTwo &amp;amp; @BBCiPlayer. https://t.co/Od1CIJ8qM5</td>\n",
       "    </tr>\n",
       "    <tr>\n",
       "      <td>...</td>\n",
       "      <td>...</td>\n",
       "      <td>...</td>\n",
       "    </tr>\n",
       "    <tr>\n",
       "      <td>495</td>\n",
       "      <td>The New York Times</td>\n",
       "      <td>RT @reidepstein: Long lines in Texas for the first day of early voting come in  first election since Texas GOP forbade straight-ticket voti…</td>\n",
       "    </tr>\n",
       "    <tr>\n",
       "      <td>496</td>\n",
       "      <td>The New York Times</td>\n",
       "      <td>Despite a pandemic that has ravaged New York, the four companies known as Big Tech — Amazon, Apple, Facebook and Google — are all significantly expanding their footprint in the city.\\nhttps://t.co/0jpaEaT20R</td>\n",
       "    </tr>\n",
       "    <tr>\n",
       "      <td>497</td>\n",
       "      <td>The New York Times</td>\n",
       "      <td>RT @evanchill: After a federal task force killed the self-described antifa activist Michael Reinoehl on Sept. 3, President Trump praised it…</td>\n",
       "    </tr>\n",
       "    <tr>\n",
       "      <td>498</td>\n",
       "      <td>The New York Times</td>\n",
       "      <td>In Opinion\\n\\nBryce Covert writes, \"In reality, there is no magical distinction that leaves children and adults immune to the coronavirus in a child care setting but not in a school. And yet throughout the pandemic we’ve operated as if there is.\"\\nhttps://t.co/2FyoFFn8Ul</td>\n",
       "    </tr>\n",
       "    <tr>\n",
       "      <td>499</td>\n",
       "      <td>The New York Times</td>\n",
       "      <td>RT @apoorva_nyc: NEW: Reports of reinfection with the coronavirus, like the one in Nevada, evoke a nightmarish future: Repeat bouts of illn…</td>\n",
       "    </tr>\n",
       "  </tbody>\n",
       "</table>\n",
       "<p>500 rows × 2 columns</p>\n",
       "</div>"
      ],
      "text/plain": [
       "                   Name  \\\n",
       "0    BBC                  \n",
       "1    BBC                  \n",
       "2    BBC                  \n",
       "3    BBC                  \n",
       "4    BBC                  \n",
       "..   ...                  \n",
       "495  The New York Times   \n",
       "496  The New York Times   \n",
       "497  The New York Times   \n",
       "498  The New York Times   \n",
       "499  The New York Times   \n",
       "\n",
       "                                                                                                                                                                                                                                                                                       Tweet Text  \n",
       "0    Hugh Laurie and Helen McCrory star in a brand new political thriller…\\n \\n#Roadkill, coming soon to @BBCOne and @BBCiPlayer.\\nhttps://t.co/ou7Qt84sUh                                                                                                                                         \n",
       "1    These specially trained sniffer dogs in Lebanon are learning to detect Covid-19 🐶\\nhttps://t.co/9qx0xfvnmj                                                                                                                                                                                    \n",
       "2    RT @BBCCiN: Here's a sneak peak at our special short film, coming 15 October @BBCOne 🔜 https://t.co/DevFP5ecxT                                                                                                                                                                                \n",
       "3    \"More than 12 million Africans were trafficked. More than 2 million died en route. We thought it was worth telling that story.\"\\n\\nIn a new series, @SamuelLJackson and @afuahirsch explore 400 years of slavery.\\n\\nEnslaved with Samuel L. Jackson | @BBCiPlayer.\\nhttps://t.co/DUFuUhPpmA  \n",
       "4    .@SamuelLJackson pieces together the beginnings and methods of the trans-Atlantic slave trade – a business that thrived for over 400 years.\\n\\n#Enslaved | 9pm | @BBCTwo &amp; @BBCiPlayer. https://t.co/Od1CIJ8qM5                                                                           \n",
       "..                                                                                                                                                                                                                   ...                                                                           \n",
       "495  RT @reidepstein: Long lines in Texas for the first day of early voting come in  first election since Texas GOP forbade straight-ticket voti…                                                                                                                                                  \n",
       "496  Despite a pandemic that has ravaged New York, the four companies known as Big Tech — Amazon, Apple, Facebook and Google — are all significantly expanding their footprint in the city.\\nhttps://t.co/0jpaEaT20R                                                                               \n",
       "497  RT @evanchill: After a federal task force killed the self-described antifa activist Michael Reinoehl on Sept. 3, President Trump praised it…                                                                                                                                                  \n",
       "498  In Opinion\\n\\nBryce Covert writes, \"In reality, there is no magical distinction that leaves children and adults immune to the coronavirus in a child care setting but not in a school. And yet throughout the pandemic we’ve operated as if there is.\"\\nhttps://t.co/2FyoFFn8Ul               \n",
       "499  RT @apoorva_nyc: NEW: Reports of reinfection with the coronavirus, like the one in Nevada, evoke a nightmarish future: Repeat bouts of illn…                                                                                                                                                  \n",
       "\n",
       "[500 rows x 2 columns]"
      ]
     },
     "execution_count": 6,
     "metadata": {},
     "output_type": "execute_result"
    }
   ],
   "source": [
    "#Create DataFrame with Tweets\n",
    "twitter_df = pd.DataFrame({'Name' : name, 'Tweet Text' : full_text})\n",
    "pd.set_option('display.max_colwidth', -1)\n",
    "pd.set_option('display.max_columns', None)\n",
    "twitter_df"
   ]
  },
  {
   "cell_type": "code",
   "execution_count": 7,
   "metadata": {},
   "outputs": [],
   "source": [
    "#Give each tweet an index # that resets once the name of the handle changes\n",
    "base_name = twitter_df.loc[0,'Name']\n",
    "counter = 0 \n",
    "for index, row in twitter_df.iterrows():\n",
    "    if row['Name'] == base_name:\n",
    "        twitter_df.loc[index,'Tweets Ago'] = counter\n",
    "        counter +=1\n",
    "    if row['Name'] != base_name:\n",
    "        counter = 0\n",
    "        twitter_df.loc[index,'Tweets Ago'] = counter\n",
    "        base_name = row['Name']\n",
    "        counter +=1"
   ]
  },
  {
   "cell_type": "code",
   "execution_count": 8,
   "metadata": {},
   "outputs": [
    {
     "data": {
      "text/html": [
       "<div>\n",
       "<style scoped>\n",
       "    .dataframe tbody tr th:only-of-type {\n",
       "        vertical-align: middle;\n",
       "    }\n",
       "\n",
       "    .dataframe tbody tr th {\n",
       "        vertical-align: top;\n",
       "    }\n",
       "\n",
       "    .dataframe thead th {\n",
       "        text-align: right;\n",
       "    }\n",
       "</style>\n",
       "<table border=\"1\" class=\"dataframe\">\n",
       "  <thead>\n",
       "    <tr style=\"text-align: right;\">\n",
       "      <th></th>\n",
       "      <th>Name</th>\n",
       "      <th>Tweet Text</th>\n",
       "      <th>Tweets Ago</th>\n",
       "      <th>Compound</th>\n",
       "      <th>Positive</th>\n",
       "      <th>Neutral</th>\n",
       "      <th>Negative</th>\n",
       "    </tr>\n",
       "  </thead>\n",
       "  <tbody>\n",
       "    <tr>\n",
       "      <td>0</td>\n",
       "      <td>BBC</td>\n",
       "      <td>Hugh Laurie and Helen McCrory star in a brand new political thriller…\\n \\n#Roadkill, coming soon to @BBCOne and @BBCiPlayer.\\nhttps://t.co/ou7Qt84sUh</td>\n",
       "      <td>0.0</td>\n",
       "      <td>0.0000</td>\n",
       "      <td>0.000</td>\n",
       "      <td>1.000</td>\n",
       "      <td>0.000</td>\n",
       "    </tr>\n",
       "    <tr>\n",
       "      <td>1</td>\n",
       "      <td>BBC</td>\n",
       "      <td>These specially trained sniffer dogs in Lebanon are learning to detect Covid-19 🐶\\nhttps://t.co/9qx0xfvnmj</td>\n",
       "      <td>1.0</td>\n",
       "      <td>0.0000</td>\n",
       "      <td>0.000</td>\n",
       "      <td>1.000</td>\n",
       "      <td>0.000</td>\n",
       "    </tr>\n",
       "    <tr>\n",
       "      <td>2</td>\n",
       "      <td>BBC</td>\n",
       "      <td>RT @BBCCiN: Here's a sneak peak at our special short film, coming 15 October @BBCOne 🔜 https://t.co/DevFP5ecxT</td>\n",
       "      <td>2.0</td>\n",
       "      <td>0.4019</td>\n",
       "      <td>0.137</td>\n",
       "      <td>0.863</td>\n",
       "      <td>0.000</td>\n",
       "    </tr>\n",
       "    <tr>\n",
       "      <td>3</td>\n",
       "      <td>BBC</td>\n",
       "      <td>\"More than 12 million Africans were trafficked. More than 2 million died en route. We thought it was worth telling that story.\"\\n\\nIn a new series, @SamuelLJackson and @afuahirsch explore 400 years of slavery.\\n\\nEnslaved with Samuel L. Jackson | @BBCiPlayer.\\nhttps://t.co/DUFuUhPpmA</td>\n",
       "      <td>3.0</td>\n",
       "      <td>-0.8807</td>\n",
       "      <td>0.037</td>\n",
       "      <td>0.745</td>\n",
       "      <td>0.218</td>\n",
       "    </tr>\n",
       "    <tr>\n",
       "      <td>4</td>\n",
       "      <td>BBC</td>\n",
       "      <td>.@SamuelLJackson pieces together the beginnings and methods of the trans-Atlantic slave trade – a business that thrived for over 400 years.\\n\\n#Enslaved | 9pm | @BBCTwo &amp;amp; @BBCiPlayer. https://t.co/Od1CIJ8qM5</td>\n",
       "      <td>4.0</td>\n",
       "      <td>-0.4019</td>\n",
       "      <td>0.000</td>\n",
       "      <td>0.912</td>\n",
       "      <td>0.088</td>\n",
       "    </tr>\n",
       "  </tbody>\n",
       "</table>\n",
       "</div>"
      ],
      "text/plain": [
       "  Name  \\\n",
       "0  BBC   \n",
       "1  BBC   \n",
       "2  BBC   \n",
       "3  BBC   \n",
       "4  BBC   \n",
       "\n",
       "                                                                                                                                                                                                                                                                                     Tweet Text  \\\n",
       "0  Hugh Laurie and Helen McCrory star in a brand new political thriller…\\n \\n#Roadkill, coming soon to @BBCOne and @BBCiPlayer.\\nhttps://t.co/ou7Qt84sUh                                                                                                                                          \n",
       "1  These specially trained sniffer dogs in Lebanon are learning to detect Covid-19 🐶\\nhttps://t.co/9qx0xfvnmj                                                                                                                                                                                     \n",
       "2  RT @BBCCiN: Here's a sneak peak at our special short film, coming 15 October @BBCOne 🔜 https://t.co/DevFP5ecxT                                                                                                                                                                                 \n",
       "3  \"More than 12 million Africans were trafficked. More than 2 million died en route. We thought it was worth telling that story.\"\\n\\nIn a new series, @SamuelLJackson and @afuahirsch explore 400 years of slavery.\\n\\nEnslaved with Samuel L. Jackson | @BBCiPlayer.\\nhttps://t.co/DUFuUhPpmA   \n",
       "4  .@SamuelLJackson pieces together the beginnings and methods of the trans-Atlantic slave trade – a business that thrived for over 400 years.\\n\\n#Enslaved | 9pm | @BBCTwo &amp; @BBCiPlayer. https://t.co/Od1CIJ8qM5                                                                            \n",
       "\n",
       "   Tweets Ago  Compound  Positive  Neutral  Negative  \n",
       "0  0.0         0.0000    0.000     1.000    0.000     \n",
       "1  1.0         0.0000    0.000     1.000    0.000     \n",
       "2  2.0         0.4019    0.137     0.863    0.000     \n",
       "3  3.0        -0.8807    0.037     0.745    0.218     \n",
       "4  4.0        -0.4019    0.000     0.912    0.088     "
      ]
     },
     "execution_count": 8,
     "metadata": {},
     "output_type": "execute_result"
    }
   ],
   "source": [
    "#Analyze the Sentiment of each Tweet\n",
    "for index, row in twitter_df.iterrows():\n",
    "    tweet = row['Tweet Text']\n",
    "    results = analyzer.polarity_scores(f'{tweet}')\n",
    "    twitter_df.loc[index, 'Compound'] = results['compound']\n",
    "    twitter_df.loc[index, 'Positive'] = results['pos']\n",
    "    twitter_df.loc[index, 'Neutral'] = results['neu']\n",
    "    twitter_df.loc[index, 'Negative'] = results['neg']\n",
    "twitter_df.head()"
   ]
  },
  {
   "cell_type": "code",
   "execution_count": 9,
   "metadata": {},
   "outputs": [],
   "source": [
    "#Create Plot Points for Graphs\n",
    "x = twitter_df.iloc[0:100,2]\n",
    "#\n",
    "bbc = twitter_df.loc[twitter_df['Name']=='BBC']['Compound']\n",
    "cnn = twitter_df.loc[twitter_df['Name']=='CNN']['Compound']\n",
    "cbs = twitter_df.loc[twitter_df['Name']== 'CBS News']['Compound']\n",
    "fox = twitter_df.loc[twitter_df['Name']=='Fox News']['Compound']\n",
    "nyt = twitter_df.loc[twitter_df['Name']=='The New York Times']['Compound']"
   ]
  },
  {
   "cell_type": "code",
   "execution_count": 10,
   "metadata": {},
   "outputs": [
    {
     "name": "stderr",
     "output_type": "stream",
     "text": [
      "No handles with labels found to put in legend.\n"
     ]
    },
    {
     "data": {
      "image/png": "[encoded data removed]",
      "text/plain": [
       "<Figure size 432x288 with 1 Axes>"
      ]
     },
     "metadata": {
      "needs_background": "light"
     },
     "output_type": "display_data"
    }
   ],
   "source": [
    "plt.scatter(x,bbc, color = 'blue')\n",
    "plt.scatter(x,cnn, color = 'green')\n",
    "plt.scatter(x,cbs, color = 'orange')\n",
    "plt.scatter(x,fox, color = 'red')\n",
    "plt.scatter(x,nyt, color = 'purple')\n",
    "plt.xticks(rotation = 45)\n",
    "plt.title('Sentiment Analysis of Major Media Outlet Tweets')\n",
    "plt.xlabel(\"Tweets Ago\")\n",
    "plt.ylabel(\"Compound Score\")\n",
    "plt.grid(True)\n",
    "plt.legend()\n",
    "plt.savefig('output/tweepy/SentimentbyTweet')"
   ]
  },
  {
   "cell_type": "code",
   "execution_count": 11,
   "metadata": {},
   "outputs": [
    {
     "data": {
      "text/html": [
       "<div>\n",
       "<style scoped>\n",
       "    .dataframe tbody tr th:only-of-type {\n",
       "        vertical-align: middle;\n",
       "    }\n",
       "\n",
       "    .dataframe tbody tr th {\n",
       "        vertical-align: top;\n",
       "    }\n",
       "\n",
       "    .dataframe thead th {\n",
       "        text-align: right;\n",
       "    }\n",
       "</style>\n",
       "<table border=\"1\" class=\"dataframe\">\n",
       "  <thead>\n",
       "    <tr style=\"text-align: right;\">\n",
       "      <th></th>\n",
       "      <th>Compound</th>\n",
       "    </tr>\n",
       "    <tr>\n",
       "      <th>Name</th>\n",
       "      <th></th>\n",
       "    </tr>\n",
       "  </thead>\n",
       "  <tbody>\n",
       "    <tr>\n",
       "      <td>BBC</td>\n",
       "      <td>0.134407</td>\n",
       "    </tr>\n",
       "    <tr>\n",
       "      <td>CBS News</td>\n",
       "      <td>0.045979</td>\n",
       "    </tr>\n",
       "    <tr>\n",
       "      <td>CNN</td>\n",
       "      <td>-0.003886</td>\n",
       "    </tr>\n",
       "    <tr>\n",
       "      <td>Fox News</td>\n",
       "      <td>-0.058960</td>\n",
       "    </tr>\n",
       "    <tr>\n",
       "      <td>The New York Times</td>\n",
       "      <td>-0.052471</td>\n",
       "    </tr>\n",
       "  </tbody>\n",
       "</table>\n",
       "</div>"
      ],
      "text/plain": [
       "                    Compound\n",
       "Name                        \n",
       "BBC                 0.134407\n",
       "CBS News            0.045979\n",
       "CNN                -0.003886\n",
       "Fox News           -0.058960\n",
       "The New York Times -0.052471"
      ]
     },
     "execution_count": 11,
     "metadata": {},
     "output_type": "execute_result"
    }
   ],
   "source": [
    "polarity = twitter_df.groupby(['Name']).mean()[\"Compound\"]\n",
    "pd.DataFrame(polarity)"
   ]
  },
  {
   "cell_type": "code",
   "execution_count": 12,
   "metadata": {},
   "outputs": [
    {
     "data": {
      "image/png": "[encoded data removed]",
      "text/plain": [
       "<Figure size 432x288 with 1 Axes>"
      ]
     },
     "metadata": {
      "needs_background": "light"
     },
     "output_type": "display_data"
    }
   ],
   "source": [
    "fig, ax = plt.subplots()\n",
    "x = np.arange(len(polarity))\n",
    "bbc = ax.bar(x[0], polarity[0], color = 'blue')\n",
    "cbs = ax.bar(x[1], polarity[1], color = 'orange')\n",
    "cnn = ax.bar(x[2], polarity[2], color = 'green')\n",
    "fox = ax.bar(x[3], polarity[3], color = 'red')\n",
    "nyt = ax.bar(x[4], polarity[4], color = 'purple')\n",
    "ax.set_ylabel(\"Tweet Polarity\")\n",
    "ax.set_title(\"Overall Media Sentiment based on Twitter\")\n",
    "ax.set_xticks(x + 0.5)\n",
    "ax.set_xticklabels((\"BBC\", \"CBS\", \"CNN\", \"Fox\", \"NYT\"))\n",
    "ax.grid(False)\n",
    "plt.savefig('output/tweepy/OverallSentiment')"
   ]
  },
  {
   "cell_type": "code",
   "execution_count": 13,
   "metadata": {},
   "outputs": [],
   "source": [
    "#FoxNews does NOT put text in their tweets - only links to articles. Therefore VADER cannot assign a score"
   ]
  },
  {
   "cell_type": "code",
   "execution_count": null,
   "metadata": {},
   "outputs": [],
   "source": []
  }
 ],
 "metadata": {
  "kernelspec": {
   "display_name": "Python 3",
   "language": "python",
   "name": "python3"
  },
  "language_info": {
   "codemirror_mode": {
    "name": "ipython",
    "version": 3
   },
   "file_extension": ".py",
   "mimetype": "text/x-python",
   "name": "python",
   "nbconvert_exporter": "python",
   "pygments_lexer": "ipython3",
   "version": "3.7.4"
  }
 },
 "nbformat": 4,
 "nbformat_minor": 2
}
