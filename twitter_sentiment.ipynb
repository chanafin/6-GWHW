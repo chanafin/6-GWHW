{
 "cells": [
  {
   "cell_type": "code",
   "execution_count": 1,
   "metadata": {},
   "outputs": [],
   "source": [
    "# !pip install vaderSentiment\n",
    "import tweepy\n",
    "import json\n",
    "import pandas as pd\n",
    "import os\n",
    "import matplotlib.pyplot as plt\n",
    "import numpy as np\n",
    "from scipy.stats import linregress\n",
    "\n",
    "#Import sentiment analyzer\n",
    "from vaderSentiment.vaderSentiment import SentimentIntensityAnalyzer\n",
    "from api_keys import consumer_key, consumer_secret, access_token, access_token_secret\n",
    "#\n",
    "analyzer = SentimentIntensityAnalyzer()"
   ]
  },
  {
   "cell_type": "code",
   "execution_count": 2,
   "metadata": {},
   "outputs": [],
   "source": [
    "#Instantiate Authentication / Wrapper\n",
    "auth = tweepy.OAuthHandler(consumer_key, consumer_secret)\n",
    "auth.set_access_token(access_token, access_token_secret)\n",
    "api = tweepy.API(auth)"
   ]
  },
  {
   "cell_type": "code",
   "execution_count": 3,
   "metadata": {},
   "outputs": [],
   "source": [
    "#Observe 5 different Twitter accounts from Major Media\n",
    "handles = ['BBC', 'CBSNews', 'CNN', 'FoxNews', 'nytimes']"
   ]
  },
  {
   "cell_type": "code",
   "execution_count": 4,
   "metadata": {},
   "outputs": [],
   "source": [
    "#Create Empty Lists for Tweets\n",
    "tweets = []\n",
    "name = []\n",
    "full_text = []"
   ]
  },
  {
   "cell_type": "code",
   "execution_count": 5,
   "metadata": {},
   "outputs": [],
   "source": [
    "#Loop through handles and compile last 100 tweets from each\n",
    "for i in handles:\n",
    "    tweets = tweepy.Cursor(api.user_timeline, i, tweet_mode='extended').items(100)\n",
    "    for j in tweets:\n",
    "        name.append(j.author.name)\n",
    "        full_text.append(j.full_text)"
   ]
  },
  {
   "cell_type": "code",
   "execution_count": 6,
   "metadata": {},
   "outputs": [
    {
     "data": {
      "text/html": [
       "<div>\n",
       "<style scoped>\n",
       "    .dataframe tbody tr th:only-of-type {\n",
       "        vertical-align: middle;\n",
       "    }\n",
       "\n",
       "    .dataframe tbody tr th {\n",
       "        vertical-align: top;\n",
       "    }\n",
       "\n",
       "    .dataframe thead th {\n",
       "        text-align: right;\n",
       "    }\n",
       "</style>\n",
       "<table border=\"1\" class=\"dataframe\">\n",
       "  <thead>\n",
       "    <tr style=\"text-align: right;\">\n",
       "      <th></th>\n",
       "      <th>Name</th>\n",
       "      <th>Tweet Text</th>\n",
       "    </tr>\n",
       "  </thead>\n",
       "  <tbody>\n",
       "    <tr>\n",
       "      <td>0</td>\n",
       "      <td>BBC</td>\n",
       "      <td>The stories of ordinary people fighting for truth and justice following acts of terror.\\n\\nIn the Face of Terror starts tonight | 9pm | @BBCTwo &amp;amp; @BBCiPlayer.\\n\\n👉 https://t.co/99qI8Q4FEz https://t.co/SGEesNSBjX</td>\n",
       "    </tr>\n",
       "    <tr>\n",
       "      <td>1</td>\n",
       "      <td>BBC</td>\n",
       "      <td>\"The currency that we deal in is the most valuable thing on the planet. It's human life.\"\\n\\nBrand new #Surgeons: At the Edge of Life | Starts Tuesday | 9pm | @bbctwo &amp;amp; @bbciplayer. https://t.co/EvEQxmx2At</td>\n",
       "    </tr>\n",
       "    <tr>\n",
       "      <td>2</td>\n",
       "      <td>BBC</td>\n",
       "      <td>@BBCiPlayer @sueperkins These are Japan’s remarkable free-diving grannies, who dive to depths of 30 feet! \\n\\n#JapanWithSuePerkins is streaming now on.\\n\\n@sueperkins\\nhttps://t.co/E2hn11BROe</td>\n",
       "    </tr>\n",
       "    <tr>\n",
       "      <td>3</td>\n",
       "      <td>BBC</td>\n",
       "      <td>From A to \"Oh\" to Z.\\n\\n#GavinAndStacey | @bbcthree\\n\\nhttps://t.co/PjHtnwrPNV</td>\n",
       "    </tr>\n",
       "    <tr>\n",
       "      <td>4</td>\n",
       "      <td>BBC</td>\n",
       "      <td>The #GrahamNorton Show is BACK!  🙌\\n\\nThis week's star studded line up, both in-studio and connecting remotely...\\n\\n✨ @DollyParton \\n✨#RupertEverett \\n✨@LollyAdefope\\n✨@rizwanahmed\\n✨@SaraPascoe\\n✨@RoisinMurphy\\n\\n👉https://t.co/jLmUhRRKDg https://t.co/EFpACyElKJ</td>\n",
       "    </tr>\n",
       "    <tr>\n",
       "      <td>...</td>\n",
       "      <td>...</td>\n",
       "      <td>...</td>\n",
       "    </tr>\n",
       "    <tr>\n",
       "      <td>495</td>\n",
       "      <td>The New York Times</td>\n",
       "      <td>The 2020 election season has divided many military veterans, breaking down close-knit groups that veterans relied on for support.\\nhttps://t.co/5R2GjJZbFC</td>\n",
       "    </tr>\n",
       "    <tr>\n",
       "      <td>496</td>\n",
       "      <td>The New York Times</td>\n",
       "      <td>RT @nytgraphics: Mayor Bill de Blasio announced on Sunday that he intended to “rewind” the reopening in nine neighborhoods in New York City…</td>\n",
       "    </tr>\n",
       "    <tr>\n",
       "      <td>497</td>\n",
       "      <td>The New York Times</td>\n",
       "      <td>Joe Biden will continue to travel for campaign events despite having shared the debate stage with President Trump shortly before the president tested positive for the coronavirus. \\n\\nExperts say that the president was likely contagious during the debate. https://t.co/IbAmjzXOtg</td>\n",
       "    </tr>\n",
       "    <tr>\n",
       "      <td>498</td>\n",
       "      <td>The New York Times</td>\n",
       "      <td>Vice President Mike Pence, despite being at high risk of having the coronavirus, has continued campaigning.\\n\\nThough he has tested negative each of the past three days, it is possible to test negative and still be infected early in the course of the virus.\\nhttps://t.co/YXzK1CaP2f</td>\n",
       "    </tr>\n",
       "    <tr>\n",
       "      <td>499</td>\n",
       "      <td>The New York Times</td>\n",
       "      <td>Kenzo Takada, the designer whose exuberant prints and volumes helped break the Paris barrier and bring Japanese fashion to the world, died on Sunday. He was 81. The cause was complications from Covid-19.\\nhttps://t.co/movQajib1X</td>\n",
       "    </tr>\n",
       "  </tbody>\n",
       "</table>\n",
       "<p>500 rows × 2 columns</p>\n",
       "</div>"
      ],
      "text/plain": [
       "                   Name  \\\n",
       "0    BBC                  \n",
       "1    BBC                  \n",
       "2    BBC                  \n",
       "3    BBC                  \n",
       "4    BBC                  \n",
       "..   ...                  \n",
       "495  The New York Times   \n",
       "496  The New York Times   \n",
       "497  The New York Times   \n",
       "498  The New York Times   \n",
       "499  The New York Times   \n",
       "\n",
       "                                                                                                                                                                                                                                                                                     Tweet Text  \n",
       "0    The stories of ordinary people fighting for truth and justice following acts of terror.\\n\\nIn the Face of Terror starts tonight | 9pm | @BBCTwo &amp; @BBCiPlayer.\\n\\n👉 https://t.co/99qI8Q4FEz https://t.co/SGEesNSBjX                                                                     \n",
       "1    \"The currency that we deal in is the most valuable thing on the planet. It's human life.\"\\n\\nBrand new #Surgeons: At the Edge of Life | Starts Tuesday | 9pm | @bbctwo &amp; @bbciplayer. https://t.co/EvEQxmx2At                                                                           \n",
       "2    @BBCiPlayer @sueperkins These are Japan’s remarkable free-diving grannies, who dive to depths of 30 feet! \\n\\n#JapanWithSuePerkins is streaming now on.\\n\\n@sueperkins\\nhttps://t.co/E2hn11BROe                                                                                             \n",
       "3    From A to \"Oh\" to Z.\\n\\n#GavinAndStacey | @bbcthree\\n\\nhttps://t.co/PjHtnwrPNV                                                                                                                                                                                                              \n",
       "4    The #GrahamNorton Show is BACK!  🙌\\n\\nThis week's star studded line up, both in-studio and connecting remotely...\\n\\n✨ @DollyParton \\n✨#RupertEverett \\n✨@LollyAdefope\\n✨@rizwanahmed\\n✨@SaraPascoe\\n✨@RoisinMurphy\\n\\n👉https://t.co/jLmUhRRKDg https://t.co/EFpACyElKJ                     \n",
       "..                                                                                                                                                                                                                                                                       ...                     \n",
       "495  The 2020 election season has divided many military veterans, breaking down close-knit groups that veterans relied on for support.\\nhttps://t.co/5R2GjJZbFC                                                                                                                                  \n",
       "496  RT @nytgraphics: Mayor Bill de Blasio announced on Sunday that he intended to “rewind” the reopening in nine neighborhoods in New York City…                                                                                                                                                \n",
       "497  Joe Biden will continue to travel for campaign events despite having shared the debate stage with President Trump shortly before the president tested positive for the coronavirus. \\n\\nExperts say that the president was likely contagious during the debate. https://t.co/IbAmjzXOtg     \n",
       "498  Vice President Mike Pence, despite being at high risk of having the coronavirus, has continued campaigning.\\n\\nThough he has tested negative each of the past three days, it is possible to test negative and still be infected early in the course of the virus.\\nhttps://t.co/YXzK1CaP2f  \n",
       "499  Kenzo Takada, the designer whose exuberant prints and volumes helped break the Paris barrier and bring Japanese fashion to the world, died on Sunday. He was 81. The cause was complications from Covid-19.\\nhttps://t.co/movQajib1X                                                        \n",
       "\n",
       "[500 rows x 2 columns]"
      ]
     },
     "execution_count": 6,
     "metadata": {},
     "output_type": "execute_result"
    }
   ],
   "source": [
    "#Create DataFrame with Tweets\n",
    "twitter_df = pd.DataFrame({'Name' : name, 'Tweet Text' : full_text})\n",
    "pd.set_option('display.max_colwidth', -1)\n",
    "pd.set_option('display.max_columns', None)\n",
    "twitter_df"
   ]
  },
  {
   "cell_type": "code",
   "execution_count": 14,
   "metadata": {},
   "outputs": [
    {
     "data": {
      "text/plain": [
       "'BBC'"
      ]
     },
     "execution_count": 14,
     "metadata": {},
     "output_type": "execute_result"
    }
   ],
   "source": [
    "#Give each tweet an index # that resets once the name of the handle changes\n",
    "base_name = twitter_df.loc[0,'Name']\n",
    "counter = 0 \n",
    "for index, row in twitter_df.iterrows():\n",
    "    if row['Name'] == base_name:\n",
    "        twitter_df.loc[index,'Tweets Ago'] = counter\n",
    "        counter +=1\n",
    "    if row['Name'] != base_name:\n",
    "        counter = 0\n",
    "        twitter_df.loc[index,'Tweets Ago'] = counter\n",
    "        base_name = row['Name']\n",
    "        counter +=1"
   ]
  },
  {
   "cell_type": "code",
   "execution_count": 22,
   "metadata": {},
   "outputs": [
    {
     "data": {
      "text/html": [
       "<div>\n",
       "<style scoped>\n",
       "    .dataframe tbody tr th:only-of-type {\n",
       "        vertical-align: middle;\n",
       "    }\n",
       "\n",
       "    .dataframe tbody tr th {\n",
       "        vertical-align: top;\n",
       "    }\n",
       "\n",
       "    .dataframe thead th {\n",
       "        text-align: right;\n",
       "    }\n",
       "</style>\n",
       "<table border=\"1\" class=\"dataframe\">\n",
       "  <thead>\n",
       "    <tr style=\"text-align: right;\">\n",
       "      <th></th>\n",
       "      <th>Name</th>\n",
       "      <th>Tweet Text</th>\n",
       "      <th>Tweets Ago</th>\n",
       "      <th>Compound</th>\n",
       "      <th>Positive</th>\n",
       "      <th>Neutral</th>\n",
       "      <th>Negative</th>\n",
       "    </tr>\n",
       "  </thead>\n",
       "  <tbody>\n",
       "    <tr>\n",
       "      <td>0</td>\n",
       "      <td>BBC</td>\n",
       "      <td>The stories of ordinary people fighting for truth and justice following acts of terror.\\n\\nIn the Face of Terror starts tonight | 9pm | @BBCTwo &amp;amp; @BBCiPlayer.\\n\\n👉 https://t.co/99qI8Q4FEz https://t.co/SGEesNSBjX</td>\n",
       "      <td>0.0</td>\n",
       "      <td>-0.5574</td>\n",
       "      <td>0.133</td>\n",
       "      <td>0.651</td>\n",
       "      <td>0.216</td>\n",
       "    </tr>\n",
       "    <tr>\n",
       "      <td>1</td>\n",
       "      <td>BBC</td>\n",
       "      <td>\"The currency that we deal in is the most valuable thing on the planet. It's human life.\"\\n\\nBrand new #Surgeons: At the Edge of Life | Starts Tuesday | 9pm | @bbctwo &amp;amp; @bbciplayer. https://t.co/EvEQxmx2At</td>\n",
       "      <td>1.0</td>\n",
       "      <td>0.5256</td>\n",
       "      <td>0.091</td>\n",
       "      <td>0.909</td>\n",
       "      <td>0.000</td>\n",
       "    </tr>\n",
       "    <tr>\n",
       "      <td>2</td>\n",
       "      <td>BBC</td>\n",
       "      <td>@BBCiPlayer @sueperkins These are Japan’s remarkable free-diving grannies, who dive to depths of 30 feet! \\n\\n#JapanWithSuePerkins is streaming now on.\\n\\n@sueperkins\\nhttps://t.co/E2hn11BROe</td>\n",
       "      <td>2.0</td>\n",
       "      <td>0.5983</td>\n",
       "      <td>0.156</td>\n",
       "      <td>0.844</td>\n",
       "      <td>0.000</td>\n",
       "    </tr>\n",
       "    <tr>\n",
       "      <td>3</td>\n",
       "      <td>BBC</td>\n",
       "      <td>From A to \"Oh\" to Z.\\n\\n#GavinAndStacey | @bbcthree\\n\\nhttps://t.co/PjHtnwrPNV</td>\n",
       "      <td>3.0</td>\n",
       "      <td>0.0000</td>\n",
       "      <td>0.000</td>\n",
       "      <td>1.000</td>\n",
       "      <td>0.000</td>\n",
       "    </tr>\n",
       "    <tr>\n",
       "      <td>4</td>\n",
       "      <td>BBC</td>\n",
       "      <td>The #GrahamNorton Show is BACK!  🙌\\n\\nThis week's star studded line up, both in-studio and connecting remotely...\\n\\n✨ @DollyParton \\n✨#RupertEverett \\n✨@LollyAdefope\\n✨@rizwanahmed\\n✨@SaraPascoe\\n✨@RoisinMurphy\\n\\n👉https://t.co/jLmUhRRKDg https://t.co/EFpACyElKJ</td>\n",
       "      <td>4.0</td>\n",
       "      <td>0.3802</td>\n",
       "      <td>0.082</td>\n",
       "      <td>0.918</td>\n",
       "      <td>0.000</td>\n",
       "    </tr>\n",
       "  </tbody>\n",
       "</table>\n",
       "</div>"
      ],
      "text/plain": [
       "  Name  \\\n",
       "0  BBC   \n",
       "1  BBC   \n",
       "2  BBC   \n",
       "3  BBC   \n",
       "4  BBC   \n",
       "\n",
       "                                                                                                                                                                                                                                                                Tweet Text  \\\n",
       "0  The stories of ordinary people fighting for truth and justice following acts of terror.\\n\\nIn the Face of Terror starts tonight | 9pm | @BBCTwo &amp; @BBCiPlayer.\\n\\n👉 https://t.co/99qI8Q4FEz https://t.co/SGEesNSBjX                                                   \n",
       "1  \"The currency that we deal in is the most valuable thing on the planet. It's human life.\"\\n\\nBrand new #Surgeons: At the Edge of Life | Starts Tuesday | 9pm | @bbctwo &amp; @bbciplayer. https://t.co/EvEQxmx2At                                                         \n",
       "2  @BBCiPlayer @sueperkins These are Japan’s remarkable free-diving grannies, who dive to depths of 30 feet! \\n\\n#JapanWithSuePerkins is streaming now on.\\n\\n@sueperkins\\nhttps://t.co/E2hn11BROe                                                                           \n",
       "3  From A to \"Oh\" to Z.\\n\\n#GavinAndStacey | @bbcthree\\n\\nhttps://t.co/PjHtnwrPNV                                                                                                                                                                                            \n",
       "4  The #GrahamNorton Show is BACK!  🙌\\n\\nThis week's star studded line up, both in-studio and connecting remotely...\\n\\n✨ @DollyParton \\n✨#RupertEverett \\n✨@LollyAdefope\\n✨@rizwanahmed\\n✨@SaraPascoe\\n✨@RoisinMurphy\\n\\n👉https://t.co/jLmUhRRKDg https://t.co/EFpACyElKJ   \n",
       "\n",
       "   Tweets Ago  Compound  Positive  Neutral  Negative  \n",
       "0  0.0        -0.5574    0.133     0.651    0.216     \n",
       "1  1.0         0.5256    0.091     0.909    0.000     \n",
       "2  2.0         0.5983    0.156     0.844    0.000     \n",
       "3  3.0         0.0000    0.000     1.000    0.000     \n",
       "4  4.0         0.3802    0.082     0.918    0.000     "
      ]
     },
     "execution_count": 22,
     "metadata": {},
     "output_type": "execute_result"
    }
   ],
   "source": [
    "#Analyze the Sentiment of each Tweet\n",
    "for index, row in twitter_df.iterrows():\n",
    "    tweet = row['Tweet Text']\n",
    "    results = analyzer.polarity_scores(f'{tweet}')\n",
    "    twitter_df.loc[index, 'Compound'] = results['compound']\n",
    "    twitter_df.loc[index, 'Positive'] = results['pos']\n",
    "    twitter_df.loc[index, 'Neutral'] = results['neu']\n",
    "    twitter_df.loc[index, 'Negative'] = results['neg']\n",
    "twitter_df.head()"
   ]
  },
  {
   "cell_type": "code",
   "execution_count": 51,
   "metadata": {},
   "outputs": [],
   "source": [
    "#Create Plot Points for Graphs\n",
    "x = twitter_df.iloc[0:100,2]\n",
    "#\n",
    "bbc = twitter_df.loc[twitter_df['Name']=='BBC']['Compound']\n",
    "cnn = twitter_df.loc[twitter_df['Name']=='CNN']['Compound']\n",
    "cbs = twitter_df.loc[twitter_df['Name']== 'CBS News']['Compound']\n",
    "fox = twitter_df.loc[twitter_df['Name']=='Fox News']['Compound']\n",
    "nyt = twitter_df.loc[twitter_df['Name']=='The New York Times']['Compound']"
   ]
  },
  {
   "cell_type": "code",
   "execution_count": 54,
   "metadata": {},
   "outputs": [
    {
     "name": "stderr",
     "output_type": "stream",
     "text": [
      "No handles with labels found to put in legend.\n"
     ]
    },
    {
     "data": {
      "image/png": "[encoded data removed]",
      "text/plain": [
       "<Figure size 432x288 with 1 Axes>"
      ]
     },
     "metadata": {
      "needs_background": "light"
     },
     "output_type": "display_data"
    }
   ],
   "source": [
    "plt.scatter(x,bbc, color = 'blue')\n",
    "plt.scatter(x,cnn, color = 'green')\n",
    "plt.scatter(x,cbs, color = 'orange')\n",
    "plt.scatter(x,fox, color = 'red')\n",
    "plt.scatter(x,nyt, color = 'purple')\n",
    "plt.xticks(rotation = 45)\n",
    "plt.title('Sentiment Analysis of Major Media Outlet Tweets')\n",
    "plt.xlabel(\"Tweets Ago\")\n",
    "plt.ylabel(\"Compound Score\")\n",
    "plt.grid(True)\n",
    "plt.legend()\n",
    "plt.savefig('output/tweepy/SentimentbyTweet')"
   ]
  },
  {
   "cell_type": "code",
   "execution_count": 12,
   "metadata": {},
   "outputs": [
    {
     "data": {
      "text/html": [
       "<div>\n",
       "<style scoped>\n",
       "    .dataframe tbody tr th:only-of-type {\n",
       "        vertical-align: middle;\n",
       "    }\n",
       "\n",
       "    .dataframe tbody tr th {\n",
       "        vertical-align: top;\n",
       "    }\n",
       "\n",
       "    .dataframe thead th {\n",
       "        text-align: right;\n",
       "    }\n",
       "</style>\n",
       "<table border=\"1\" class=\"dataframe\">\n",
       "  <thead>\n",
       "    <tr style=\"text-align: right;\">\n",
       "      <th></th>\n",
       "      <th>Compound</th>\n",
       "    </tr>\n",
       "    <tr>\n",
       "      <th>Name</th>\n",
       "      <th></th>\n",
       "    </tr>\n",
       "  </thead>\n",
       "  <tbody>\n",
       "    <tr>\n",
       "      <td>BBC</td>\n",
       "      <td>0.100738</td>\n",
       "    </tr>\n",
       "    <tr>\n",
       "      <td>CBS News</td>\n",
       "      <td>0.015121</td>\n",
       "    </tr>\n",
       "    <tr>\n",
       "      <td>CNN</td>\n",
       "      <td>0.091691</td>\n",
       "    </tr>\n",
       "    <tr>\n",
       "      <td>Fox News</td>\n",
       "      <td>0.018371</td>\n",
       "    </tr>\n",
       "    <tr>\n",
       "      <td>The New York Times</td>\n",
       "      <td>0.088235</td>\n",
       "    </tr>\n",
       "  </tbody>\n",
       "</table>\n",
       "</div>"
      ],
      "text/plain": [
       "                    Compound\n",
       "Name                        \n",
       "BBC                 0.100738\n",
       "CBS News            0.015121\n",
       "CNN                 0.091691\n",
       "Fox News            0.018371\n",
       "The New York Times  0.088235"
      ]
     },
     "execution_count": 12,
     "metadata": {},
     "output_type": "execute_result"
    }
   ],
   "source": [
    "polarity = twitter_df.groupby(['Name']).mean()[\"Compound\"]\n",
    "pd.DataFrame(polarity)"
   ]
  },
  {
   "cell_type": "code",
   "execution_count": 13,
   "metadata": {},
   "outputs": [
    {
     "data": {
      "image/png": "[encoded data removed]",
      "text/plain": [
       "<Figure size 432x288 with 1 Axes>"
      ]
     },
     "metadata": {
      "needs_background": "light"
     },
     "output_type": "display_data"
    }
   ],
   "source": [
    "fig, ax = plt.subplots()\n",
    "x = np.arange(len(polarity))\n",
    "bbc = ax.bar(x[0], polarity[0], color = 'blue')\n",
    "cbs = ax.bar(x[1], polarity[1], color = 'orange')\n",
    "cnn = ax.bar(x[2], polarity[2], color = 'green')\n",
    "fox = ax.bar(x[3], polarity[3], color = 'red')\n",
    "nyt = ax.bar(x[4], polarity[4], color = 'purple')\n",
    "ax.set_ylabel(\"Tweet Polarity\")\n",
    "ax.set_title(\"Overall Media Sentiment based on Twitter\")\n",
    "ax.set_xticks(x + 0.5)\n",
    "ax.set_xticklabels((\"BBC\", \"CBS\", \"CNN\", \"Fox\", \"NYT\"))\n",
    "ax.grid(False)\n",
    "plt.savefig('output/tweepy/OverallSentiment')"
   ]
  },
  {
   "cell_type": "code",
   "execution_count": null,
   "metadata": {},
   "outputs": [],
   "source": [
    "#FoxNews does NOT put text in their tweets - only links to articles. Therefore VADER cannot assign a score"
   ]
  }
 ],
 "metadata": {
  "kernelspec": {
   "display_name": "Python 3",
   "language": "python",
   "name": "python3"
  },
  "language_info": {
   "codemirror_mode": {
    "name": "ipython",
    "version": 3
   },
   "file_extension": ".py",
   "mimetype": "text/x-python",
   "name": "python",
   "nbconvert_exporter": "python",
   "pygments_lexer": "ipython3",
   "version": "3.7.4"
  }
 },
 "nbformat": 4,
 "nbformat_minor": 2
}
