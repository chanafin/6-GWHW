{
 "cells": [
  {
   "cell_type": "code",
   "execution_count": 14,
   "metadata": {},
   "outputs": [
    {
     "name": "stdout",
     "output_type": "stream",
     "text": [
      "Requirement already satisfied: vaderSentiment in c:\\users\\chris\\anaconda3\\lib\\site-packages (3.3.1)\n"
     ]
    }
   ],
   "source": [
    "!pip install vaderSentiment\n",
    "import tweepy\n",
    "import json\n",
    "import pandas as pd\n",
    "import os\n",
    "import matplotlib.pyplot as plt\n",
    "import numpy as np\n",
    "from scipy.stats import linregress\n",
    "from vaderSentiment.vaderSentiment import SentimentIntensityAnalyzer\n",
    "analyzer = SentimentIntensityAnalyzer()"
   ]
  },
  {
   "cell_type": "code",
   "execution_count": 15,
   "metadata": {},
   "outputs": [],
   "source": [
    "from config import consumer_key, consumer_secret, access_token, access_token_secret"
   ]
  },
  {
   "cell_type": "code",
   "execution_count": 16,
   "metadata": {},
   "outputs": [],
   "source": [
    "auth = tweepy.OAuthHandler(consumer_key, consumer_secret)\n",
    "auth.set_access_token(access_token, access_token_secret)\n",
    "api = tweepy.API(auth)"
   ]
  },
  {
   "cell_type": "code",
   "execution_count": 17,
   "metadata": {},
   "outputs": [],
   "source": [
    "user_account = ['BBC', 'CBSNews', 'CNN', 'FoxNews', 'nytimes']"
   ]
  },
  {
   "cell_type": "code",
   "execution_count": 18,
   "metadata": {},
   "outputs": [],
   "source": [
    "tweets = []\n",
    "#\n",
    "name = []\n",
    "full_text = []"
   ]
  },
  {
   "cell_type": "code",
   "execution_count": 19,
   "metadata": {},
   "outputs": [],
   "source": [
    "for i in user_account:\n",
    "    tweets = tweepy.Cursor(api.user_timeline, i, tweet_mode='extended').items(100)\n",
    "    for j in tweets:\n",
    "        name.append(j.author.name)\n",
    "        full_text.append(j.full_text)"
   ]
  },
  {
   "cell_type": "code",
   "execution_count": 20,
   "metadata": {},
   "outputs": [],
   "source": [
    "df = pd.DataFrame({'Name' : name, 'Tweet Text' : full_text})\n",
    "pd.set_option('display.max_colwidth', -1)\n",
    "pd.set_option('display.max_columns', None)"
   ]
  },
  {
   "cell_type": "code",
   "execution_count": 21,
   "metadata": {},
   "outputs": [
    {
     "data": {
      "text/html": [
       "<div>\n",
       "<style scoped>\n",
       "    .dataframe tbody tr th:only-of-type {\n",
       "        vertical-align: middle;\n",
       "    }\n",
       "\n",
       "    .dataframe tbody tr th {\n",
       "        vertical-align: top;\n",
       "    }\n",
       "\n",
       "    .dataframe thead th {\n",
       "        text-align: right;\n",
       "    }\n",
       "</style>\n",
       "<table border=\"1\" class=\"dataframe\">\n",
       "  <thead>\n",
       "    <tr style=\"text-align: right;\">\n",
       "      <th></th>\n",
       "      <th>Name</th>\n",
       "      <th>Tweet Text</th>\n",
       "    </tr>\n",
       "  </thead>\n",
       "  <tbody>\n",
       "    <tr>\n",
       "      <td>0</td>\n",
       "      <td>BBC</td>\n",
       "      <td>#FindingDory = perfect weekend film!   🙌🐠\\n\\n6.20pm | @BBCOne &amp;amp; @BBCiPlayer.\\n\\n👉 https://t.co/epX87pTvAr https://t.co/cshunjl5Kx</td>\n",
       "    </tr>\n",
       "    <tr>\n",
       "      <td>1</td>\n",
       "      <td>BBC</td>\n",
       "      <td>We hope this brings you some much needed tranquility. 😌\\n\\nThis is the Mindful Mix with David Attenborough. 🍃\\n\\nListen on @BBCSounds. 🎧\\nhttps://t.co/yODWwxQ2Zr</td>\n",
       "    </tr>\n",
       "    <tr>\n",
       "      <td>2</td>\n",
       "      <td>BBC</td>\n",
       "      <td>\"If any good can come of me sharing my experience, I hope it's that it encourages more men to be vocal and not keep their feelings bottled up.\"\\n\\n@professorgreen: Suicide and Me | Via @bbcthree.\\n\\nhttps://t.co/rWxWBp4huj</td>\n",
       "    </tr>\n",
       "    <tr>\n",
       "      <td>3</td>\n",
       "      <td>BBC</td>\n",
       "      <td>RT @BBCTheOneShow: In support of #MentalHealthAwarenessWeek @professorgreen, @craigdavid, @jamesarthur23 and @snowpatrol's Gary Lightbody t…</td>\n",
       "    </tr>\n",
       "    <tr>\n",
       "      <td>4</td>\n",
       "      <td>BBC</td>\n",
       "      <td>Israeli investors develop face mask with remote-controlled mouth hole.\\nhttps://t.co/NHFpQqUvk5</td>\n",
       "    </tr>\n",
       "    <tr>\n",
       "      <td>...</td>\n",
       "      <td>...</td>\n",
       "      <td>...</td>\n",
       "    </tr>\n",
       "    <tr>\n",
       "      <td>495</td>\n",
       "      <td>The New York Times</td>\n",
       "      <td>For decades, the backbone of the U.S.'s disaster response system has been its army of volunteers who race toward danger to help victims. The pandemic has exposed a critical weakness: Most volunteers are older people at a higher risk from the virus.\\nhttps://t.co/sLgwEK1efH</td>\n",
       "    </tr>\n",
       "    <tr>\n",
       "      <td>496</td>\n",
       "      <td>The New York Times</td>\n",
       "      <td>Planning your menu this Memorial Day weekend? @NYTfood has you covered with recipes for delicious dips, crisp salads and grilling options galore. https://t.co/2FYv8YsnwE</td>\n",
       "    </tr>\n",
       "    <tr>\n",
       "      <td>497</td>\n",
       "      <td>The New York Times</td>\n",
       "      <td>Breaking News: President Trump called houses of worship “essential” and ordered them reopened, without any clear authority to do so.\\nhttps://t.co/EnYKyQE0PU https://t.co/IIA97gOCYu</td>\n",
       "    </tr>\n",
       "    <tr>\n",
       "      <td>498</td>\n",
       "      <td>The New York Times</td>\n",
       "      <td>Hungary has moved nearly 300 asylum seekers out of fenced detention sites where they had been put in metal containers after the EU's highest court ruled the country was holding migrant people unlawfully\\nhttps://t.co/kDzbF9nNId</td>\n",
       "    </tr>\n",
       "    <tr>\n",
       "      <td>499</td>\n",
       "      <td>The New York Times</td>\n",
       "      <td>RT @jeannasmialek: The Fed had decided to stop worrying about inflation and learn to love low unemployment -- and then came the pandemic.…</td>\n",
       "    </tr>\n",
       "  </tbody>\n",
       "</table>\n",
       "<p>500 rows × 2 columns</p>\n",
       "</div>"
      ],
      "text/plain": [
       "                   Name  \\\n",
       "0    BBC                  \n",
       "1    BBC                  \n",
       "2    BBC                  \n",
       "3    BBC                  \n",
       "4    BBC                  \n",
       "..   ...                  \n",
       "495  The New York Times   \n",
       "496  The New York Times   \n",
       "497  The New York Times   \n",
       "498  The New York Times   \n",
       "499  The New York Times   \n",
       "\n",
       "                                                                                                                                                                                                                                                                            Tweet Text  \n",
       "0    #FindingDory = perfect weekend film!   🙌🐠\\n\\n6.20pm | @BBCOne &amp; @BBCiPlayer.\\n\\n👉 https://t.co/epX87pTvAr https://t.co/cshunjl5Kx                                                                                                                                              \n",
       "1    We hope this brings you some much needed tranquility. 😌\\n\\nThis is the Mindful Mix with David Attenborough. 🍃\\n\\nListen on @BBCSounds. 🎧\\nhttps://t.co/yODWwxQ2Zr                                                                                                                  \n",
       "2    \"If any good can come of me sharing my experience, I hope it's that it encourages more men to be vocal and not keep their feelings bottled up.\"\\n\\n@professorgreen: Suicide and Me | Via @bbcthree.\\n\\nhttps://t.co/rWxWBp4huj                                                     \n",
       "3    RT @BBCTheOneShow: In support of #MentalHealthAwarenessWeek @professorgreen, @craigdavid, @jamesarthur23 and @snowpatrol's Gary Lightbody t…                                                                                                                                       \n",
       "4    Israeli investors develop face mask with remote-controlled mouth hole.\\nhttps://t.co/NHFpQqUvk5                                                                                                                                                                                    \n",
       "..                                                                                               ...                                                                                                                                                                                    \n",
       "495  For decades, the backbone of the U.S.'s disaster response system has been its army of volunteers who race toward danger to help victims. The pandemic has exposed a critical weakness: Most volunteers are older people at a higher risk from the virus.\\nhttps://t.co/sLgwEK1efH  \n",
       "496  Planning your menu this Memorial Day weekend? @NYTfood has you covered with recipes for delicious dips, crisp salads and grilling options galore. https://t.co/2FYv8YsnwE                                                                                                          \n",
       "497  Breaking News: President Trump called houses of worship “essential” and ordered them reopened, without any clear authority to do so.\\nhttps://t.co/EnYKyQE0PU https://t.co/IIA97gOCYu                                                                                              \n",
       "498  Hungary has moved nearly 300 asylum seekers out of fenced detention sites where they had been put in metal containers after the EU's highest court ruled the country was holding migrant people unlawfully\\nhttps://t.co/kDzbF9nNId                                                \n",
       "499  RT @jeannasmialek: The Fed had decided to stop worrying about inflation and learn to love low unemployment -- and then came the pandemic.…                                                                                                                                         \n",
       "\n",
       "[500 rows x 2 columns]"
      ]
     },
     "execution_count": 21,
     "metadata": {},
     "output_type": "execute_result"
    }
   ],
   "source": [
    "df"
   ]
  },
  {
   "cell_type": "code",
   "execution_count": 22,
   "metadata": {},
   "outputs": [],
   "source": [
    "base_name = df.loc[0,'Name']\n",
    "counter = 0 \n",
    "for index, row in df.iterrows():\n",
    "    if row['Name'] == base_name:\n",
    "        df.loc[index,'Tweets Ago'] = counter\n",
    "        counter +=1\n",
    "    if row['Name'] != base_name:\n",
    "        counter = 0\n",
    "        df.loc[index,'Tweets Ago'] = counter\n",
    "        base_name = row['Name']\n",
    "        counter +=1"
   ]
  },
  {
   "cell_type": "code",
   "execution_count": 23,
   "metadata": {},
   "outputs": [],
   "source": [
    "for index, row in df.iterrows():\n",
    "    tweet = row['Tweet Text']\n",
    "    results = analyzer.polarity_scores(f'{tweet}')\n",
    "    df.loc[index, 'Compound'] = results['compound']\n",
    "    df.loc[index, 'Positive'] = results['pos']\n",
    "    df.loc[index, 'Neutral'] = results['neu']\n",
    "    df.loc[index, 'Negative'] = results['neg']\n",
    "    "
   ]
  },
  {
   "cell_type": "code",
   "execution_count": 24,
   "metadata": {},
   "outputs": [
    {
     "data": {
      "text/html": [
       "<div>\n",
       "<style scoped>\n",
       "    .dataframe tbody tr th:only-of-type {\n",
       "        vertical-align: middle;\n",
       "    }\n",
       "\n",
       "    .dataframe tbody tr th {\n",
       "        vertical-align: top;\n",
       "    }\n",
       "\n",
       "    .dataframe thead th {\n",
       "        text-align: right;\n",
       "    }\n",
       "</style>\n",
       "<table border=\"1\" class=\"dataframe\">\n",
       "  <thead>\n",
       "    <tr style=\"text-align: right;\">\n",
       "      <th></th>\n",
       "      <th>Name</th>\n",
       "      <th>Tweet Text</th>\n",
       "      <th>Tweets Ago</th>\n",
       "      <th>Compound</th>\n",
       "      <th>Positive</th>\n",
       "      <th>Neutral</th>\n",
       "      <th>Negative</th>\n",
       "    </tr>\n",
       "  </thead>\n",
       "  <tbody>\n",
       "    <tr>\n",
       "      <td>0</td>\n",
       "      <td>BBC</td>\n",
       "      <td>#FindingDory = perfect weekend film!   🙌🐠\\n\\n6.20pm | @BBCOne &amp;amp; @BBCiPlayer.\\n\\n👉 https://t.co/epX87pTvAr https://t.co/cshunjl5Kx</td>\n",
       "      <td>0.0</td>\n",
       "      <td>0.6114</td>\n",
       "      <td>0.174</td>\n",
       "      <td>0.826</td>\n",
       "      <td>0.000</td>\n",
       "    </tr>\n",
       "    <tr>\n",
       "      <td>1</td>\n",
       "      <td>BBC</td>\n",
       "      <td>We hope this brings you some much needed tranquility. 😌\\n\\nThis is the Mindful Mix with David Attenborough. 🍃\\n\\nListen on @BBCSounds. 🎧\\nhttps://t.co/yODWwxQ2Zr</td>\n",
       "      <td>1.0</td>\n",
       "      <td>0.8074</td>\n",
       "      <td>0.249</td>\n",
       "      <td>0.751</td>\n",
       "      <td>0.000</td>\n",
       "    </tr>\n",
       "    <tr>\n",
       "      <td>2</td>\n",
       "      <td>BBC</td>\n",
       "      <td>\"If any good can come of me sharing my experience, I hope it's that it encourages more men to be vocal and not keep their feelings bottled up.\"\\n\\n@professorgreen: Suicide and Me | Via @bbcthree.\\n\\nhttps://t.co/rWxWBp4huj</td>\n",
       "      <td>2.0</td>\n",
       "      <td>0.7184</td>\n",
       "      <td>0.245</td>\n",
       "      <td>0.660</td>\n",
       "      <td>0.096</td>\n",
       "    </tr>\n",
       "    <tr>\n",
       "      <td>3</td>\n",
       "      <td>BBC</td>\n",
       "      <td>RT @BBCTheOneShow: In support of #MentalHealthAwarenessWeek @professorgreen, @craigdavid, @jamesarthur23 and @snowpatrol's Gary Lightbody t…</td>\n",
       "      <td>3.0</td>\n",
       "      <td>0.4019</td>\n",
       "      <td>0.172</td>\n",
       "      <td>0.828</td>\n",
       "      <td>0.000</td>\n",
       "    </tr>\n",
       "    <tr>\n",
       "      <td>4</td>\n",
       "      <td>BBC</td>\n",
       "      <td>Israeli investors develop face mask with remote-controlled mouth hole.\\nhttps://t.co/NHFpQqUvk5</td>\n",
       "      <td>4.0</td>\n",
       "      <td>0.0000</td>\n",
       "      <td>0.000</td>\n",
       "      <td>1.000</td>\n",
       "      <td>0.000</td>\n",
       "    </tr>\n",
       "    <tr>\n",
       "      <td>...</td>\n",
       "      <td>...</td>\n",
       "      <td>...</td>\n",
       "      <td>...</td>\n",
       "      <td>...</td>\n",
       "      <td>...</td>\n",
       "      <td>...</td>\n",
       "      <td>...</td>\n",
       "    </tr>\n",
       "    <tr>\n",
       "      <td>495</td>\n",
       "      <td>The New York Times</td>\n",
       "      <td>For decades, the backbone of the U.S.'s disaster response system has been its army of volunteers who race toward danger to help victims. The pandemic has exposed a critical weakness: Most volunteers are older people at a higher risk from the virus.\\nhttps://t.co/sLgwEK1efH</td>\n",
       "      <td>95.0</td>\n",
       "      <td>-0.9274</td>\n",
       "      <td>0.048</td>\n",
       "      <td>0.625</td>\n",
       "      <td>0.327</td>\n",
       "    </tr>\n",
       "    <tr>\n",
       "      <td>496</td>\n",
       "      <td>The New York Times</td>\n",
       "      <td>Planning your menu this Memorial Day weekend? @NYTfood has you covered with recipes for delicious dips, crisp salads and grilling options galore. https://t.co/2FYv8YsnwE</td>\n",
       "      <td>96.0</td>\n",
       "      <td>0.5719</td>\n",
       "      <td>0.144</td>\n",
       "      <td>0.856</td>\n",
       "      <td>0.000</td>\n",
       "    </tr>\n",
       "    <tr>\n",
       "      <td>497</td>\n",
       "      <td>The New York Times</td>\n",
       "      <td>Breaking News: President Trump called houses of worship “essential” and ordered them reopened, without any clear authority to do so.\\nhttps://t.co/EnYKyQE0PU https://t.co/IIA97gOCYu</td>\n",
       "      <td>97.0</td>\n",
       "      <td>-0.0531</td>\n",
       "      <td>0.089</td>\n",
       "      <td>0.772</td>\n",
       "      <td>0.138</td>\n",
       "    </tr>\n",
       "    <tr>\n",
       "      <td>498</td>\n",
       "      <td>The New York Times</td>\n",
       "      <td>Hungary has moved nearly 300 asylum seekers out of fenced detention sites where they had been put in metal containers after the EU's highest court ruled the country was holding migrant people unlawfully\\nhttps://t.co/kDzbF9nNId</td>\n",
       "      <td>98.0</td>\n",
       "      <td>-0.3612</td>\n",
       "      <td>0.000</td>\n",
       "      <td>0.930</td>\n",
       "      <td>0.070</td>\n",
       "    </tr>\n",
       "    <tr>\n",
       "      <td>499</td>\n",
       "      <td>The New York Times</td>\n",
       "      <td>RT @jeannasmialek: The Fed had decided to stop worrying about inflation and learn to love low unemployment -- and then came the pandemic.…</td>\n",
       "      <td>99.0</td>\n",
       "      <td>-0.5267</td>\n",
       "      <td>0.132</td>\n",
       "      <td>0.566</td>\n",
       "      <td>0.302</td>\n",
       "    </tr>\n",
       "  </tbody>\n",
       "</table>\n",
       "<p>500 rows × 7 columns</p>\n",
       "</div>"
      ],
      "text/plain": [
       "                   Name  \\\n",
       "0    BBC                  \n",
       "1    BBC                  \n",
       "2    BBC                  \n",
       "3    BBC                  \n",
       "4    BBC                  \n",
       "..   ...                  \n",
       "495  The New York Times   \n",
       "496  The New York Times   \n",
       "497  The New York Times   \n",
       "498  The New York Times   \n",
       "499  The New York Times   \n",
       "\n",
       "                                                                                                                                                                                                                                                                            Tweet Text  \\\n",
       "0    #FindingDory = perfect weekend film!   🙌🐠\\n\\n6.20pm | @BBCOne &amp; @BBCiPlayer.\\n\\n👉 https://t.co/epX87pTvAr https://t.co/cshunjl5Kx                                                                                                                                               \n",
       "1    We hope this brings you some much needed tranquility. 😌\\n\\nThis is the Mindful Mix with David Attenborough. 🍃\\n\\nListen on @BBCSounds. 🎧\\nhttps://t.co/yODWwxQ2Zr                                                                                                                   \n",
       "2    \"If any good can come of me sharing my experience, I hope it's that it encourages more men to be vocal and not keep their feelings bottled up.\"\\n\\n@professorgreen: Suicide and Me | Via @bbcthree.\\n\\nhttps://t.co/rWxWBp4huj                                                      \n",
       "3    RT @BBCTheOneShow: In support of #MentalHealthAwarenessWeek @professorgreen, @craigdavid, @jamesarthur23 and @snowpatrol's Gary Lightbody t…                                                                                                                                        \n",
       "4    Israeli investors develop face mask with remote-controlled mouth hole.\\nhttps://t.co/NHFpQqUvk5                                                                                                                                                                                     \n",
       "..                                                                                               ...                                                                                                                                                                                     \n",
       "495  For decades, the backbone of the U.S.'s disaster response system has been its army of volunteers who race toward danger to help victims. The pandemic has exposed a critical weakness: Most volunteers are older people at a higher risk from the virus.\\nhttps://t.co/sLgwEK1efH   \n",
       "496  Planning your menu this Memorial Day weekend? @NYTfood has you covered with recipes for delicious dips, crisp salads and grilling options galore. https://t.co/2FYv8YsnwE                                                                                                           \n",
       "497  Breaking News: President Trump called houses of worship “essential” and ordered them reopened, without any clear authority to do so.\\nhttps://t.co/EnYKyQE0PU https://t.co/IIA97gOCYu                                                                                               \n",
       "498  Hungary has moved nearly 300 asylum seekers out of fenced detention sites where they had been put in metal containers after the EU's highest court ruled the country was holding migrant people unlawfully\\nhttps://t.co/kDzbF9nNId                                                 \n",
       "499  RT @jeannasmialek: The Fed had decided to stop worrying about inflation and learn to love low unemployment -- and then came the pandemic.…                                                                                                                                          \n",
       "\n",
       "     Tweets Ago  Compound  Positive  Neutral  Negative  \n",
       "0    0.0         0.6114    0.174     0.826    0.000     \n",
       "1    1.0         0.8074    0.249     0.751    0.000     \n",
       "2    2.0         0.7184    0.245     0.660    0.096     \n",
       "3    3.0         0.4019    0.172     0.828    0.000     \n",
       "4    4.0         0.0000    0.000     1.000    0.000     \n",
       "..   ...            ...      ...       ...      ...     \n",
       "495  95.0       -0.9274    0.048     0.625    0.327     \n",
       "496  96.0        0.5719    0.144     0.856    0.000     \n",
       "497  97.0       -0.0531    0.089     0.772    0.138     \n",
       "498  98.0       -0.3612    0.000     0.930    0.070     \n",
       "499  99.0       -0.5267    0.132     0.566    0.302     \n",
       "\n",
       "[500 rows x 7 columns]"
      ]
     },
     "execution_count": 24,
     "metadata": {},
     "output_type": "execute_result"
    }
   ],
   "source": [
    "df"
   ]
  },
  {
   "cell_type": "code",
   "execution_count": 25,
   "metadata": {},
   "outputs": [],
   "source": [
    "x = df.iloc[0:100,2]\n",
    "\n",
    "bbc_df = df['Name'] == 'BBC'\n",
    "cnn_df = df['Name'] == 'CNN'\n",
    "cbs_df = df['Name'] == 'CBS News'\n",
    "fox_df = df['Name'] == 'Fox News'\n",
    "nyt_df = df['Name'] == 'The New York Times'\n",
    "\n",
    "bbc = df.loc[bbc_df]\n",
    "cnn = df.loc[cnn_df]\n",
    "cbs = df.loc[cbs_df]\n",
    "fox = df.loc[fox_df]\n",
    "nyt = df.loc[nyt_df]\n",
    "\n",
    "bbc = bbc['Compound']\n",
    "cnn = cnn['Compound']\n",
    "cbs = cbs['Compound']\n",
    "fox = fox['Compound']\n",
    "nyt = nyt['Compound']"
   ]
  },
  {
   "cell_type": "code",
   "execution_count": 26,
   "metadata": {},
   "outputs": [
    {
     "name": "stderr",
     "output_type": "stream",
     "text": [
      "No handles with labels found to put in legend.\n"
     ]
    },
    {
     "data": {
      "image/png": "[encoded data removed]",
      "text/plain": [
       "<Figure size 432x288 with 1 Axes>"
      ]
     },
     "metadata": {
      "needs_background": "light"
     },
     "output_type": "display_data"
    }
   ],
   "source": [
    "plt.scatter(x,bbc, color = 'blue')\n",
    "plt.scatter(x,cnn, color = 'green')\n",
    "plt.scatter(x,cbs, color = 'orange')\n",
    "plt.scatter(x,fox, color = 'red')\n",
    "plt.scatter(x,nyt, color = 'purple')\n",
    "plt.xticks(rotation = 45)\n",
    "plt.title('Sentiment Analysis of Major Media Outlet Tweets')\n",
    "plt.xlabel(\"Tweets Ago\")\n",
    "plt.ylabel(\"Compound Score\")\n",
    "plt.grid(True)\n",
    "plt.legend()\n",
    "plt.savefig('Fig1')"
   ]
  },
  {
   "cell_type": "code",
   "execution_count": 27,
   "metadata": {},
   "outputs": [
    {
     "data": {
      "text/html": [
       "<div>\n",
       "<style scoped>\n",
       "    .dataframe tbody tr th:only-of-type {\n",
       "        vertical-align: middle;\n",
       "    }\n",
       "\n",
       "    .dataframe tbody tr th {\n",
       "        vertical-align: top;\n",
       "    }\n",
       "\n",
       "    .dataframe thead th {\n",
       "        text-align: right;\n",
       "    }\n",
       "</style>\n",
       "<table border=\"1\" class=\"dataframe\">\n",
       "  <thead>\n",
       "    <tr style=\"text-align: right;\">\n",
       "      <th></th>\n",
       "      <th>Compound</th>\n",
       "    </tr>\n",
       "    <tr>\n",
       "      <th>Name</th>\n",
       "      <th></th>\n",
       "    </tr>\n",
       "  </thead>\n",
       "  <tbody>\n",
       "    <tr>\n",
       "      <td>BBC</td>\n",
       "      <td>0.310002</td>\n",
       "    </tr>\n",
       "    <tr>\n",
       "      <td>CBS News</td>\n",
       "      <td>-0.006982</td>\n",
       "    </tr>\n",
       "    <tr>\n",
       "      <td>CNN</td>\n",
       "      <td>0.034686</td>\n",
       "    </tr>\n",
       "    <tr>\n",
       "      <td>Fox News</td>\n",
       "      <td>0.005423</td>\n",
       "    </tr>\n",
       "    <tr>\n",
       "      <td>The New York Times</td>\n",
       "      <td>-0.033643</td>\n",
       "    </tr>\n",
       "  </tbody>\n",
       "</table>\n",
       "</div>"
      ],
      "text/plain": [
       "                    Compound\n",
       "Name                        \n",
       "BBC                 0.310002\n",
       "CBS News           -0.006982\n",
       "CNN                 0.034686\n",
       "Fox News            0.005423\n",
       "The New York Times -0.033643"
      ]
     },
     "execution_count": 27,
     "metadata": {},
     "output_type": "execute_result"
    }
   ],
   "source": [
    "polarity = df.groupby(['Name']).mean()[\"Compound\"]\n",
    "pd.DataFrame(polarity)"
   ]
  },
  {
   "cell_type": "code",
   "execution_count": 28,
   "metadata": {},
   "outputs": [
    {
     "data": {
      "image/png": "[encoded data removed]",
      "text/plain": [
       "<Figure size 432x288 with 1 Axes>"
      ]
     },
     "metadata": {
      "needs_background": "light"
     },
     "output_type": "display_data"
    }
   ],
   "source": [
    "fig, ax = plt.subplots()\n",
    "x = np.arange(len(polarity))\n",
    "bbc = ax.bar(x[0], polarity[0], color = 'blue')\n",
    "cbs = ax.bar(x[1], polarity[1], color = 'orange')\n",
    "cnn = ax.bar(x[2], polarity[2], color = 'green')\n",
    "fox = ax.bar(x[3], polarity[3], color = 'red')\n",
    "nyt = ax.bar(x[4], polarity[4], color = 'purple')\n",
    "ax.set_ylabel(\"Tweet Polarity\")\n",
    "ax.set_title(\"Overall Media Sentiment based on Twitter\")\n",
    "ax.set_xticks(x + 0.5)\n",
    "ax.set_xticklabels((\"BBC\", \"CBS\", \"CNN\", \"Fox\", \"NYT\"))\n",
    "ax.grid(False)\n",
    "plt.savefig('Fig2')"
   ]
  },
  {
   "cell_type": "code",
   "execution_count": null,
   "metadata": {},
   "outputs": [],
   "source": [
    "#FoxNews does NOT put text in their tweets - only links to articles. Therefore VADER cannot assign a score"
   ]
  }
 ],
 "metadata": {
  "kernelspec": {
   "display_name": "Python 3",
   "language": "python",
   "name": "python3"
  },
  "language_info": {
   "codemirror_mode": {
    "name": "ipython",
    "version": 3
   },
   "file_extension": ".py",
   "mimetype": "text/x-python",
   "name": "python",
   "nbconvert_exporter": "python",
   "pygments_lexer": "ipython3",
   "version": "3.7.4"
  }
 },
 "nbformat": 4,
 "nbformat_minor": 2
}
