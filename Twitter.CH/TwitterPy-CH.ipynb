{
 "cells": [
  {
   "cell_type": "code",
   "execution_count": 1,
   "metadata": {},
   "outputs": [
    {
     "name": "stdout",
     "output_type": "stream",
     "text": [
      "Requirement already satisfied: vaderSentiment in c:\\users\\chris\\anaconda3\\lib\\site-packages (3.3.1)\n"
     ]
    }
   ],
   "source": [
    "!pip install vaderSentiment\n",
    "import tweepy\n",
    "import json\n",
    "import pandas as pd\n",
    "import os\n",
    "import matplotlib.pyplot as plt\n",
    "import numpy as np\n",
    "from scipy.stats import linregress\n",
    "from vaderSentiment.vaderSentiment import SentimentIntensityAnalyzer\n",
    "analyzer = SentimentIntensityAnalyzer()"
   ]
  },
  {
   "cell_type": "code",
   "execution_count": 2,
   "metadata": {},
   "outputs": [],
   "source": [
    "from config import consumer_key, consumer_secret, access_token, access_token_secret"
   ]
  },
  {
   "cell_type": "code",
   "execution_count": 3,
   "metadata": {},
   "outputs": [],
   "source": [
    "auth = tweepy.OAuthHandler(consumer_key, consumer_secret)\n",
    "auth.set_access_token(access_token, access_token_secret)\n",
    "api = tweepy.API(auth)"
   ]
  },
  {
   "cell_type": "code",
   "execution_count": 4,
   "metadata": {},
   "outputs": [],
   "source": [
    "user_account = ['BBC', 'CBSNews', 'CNN', 'FoxNews', 'nytimes']"
   ]
  },
  {
   "cell_type": "code",
   "execution_count": 5,
   "metadata": {},
   "outputs": [],
   "source": [
    "tweets = []\n",
    "#\n",
    "name = []\n",
    "full_text = []"
   ]
  },
  {
   "cell_type": "code",
   "execution_count": 6,
   "metadata": {},
   "outputs": [],
   "source": [
    "for i in user_account:\n",
    "    tweets = tweepy.Cursor(api.user_timeline, i, tweet_mode='extended').items(100)\n",
    "    for j in tweets:\n",
    "        name.append(j.author.name)\n",
    "        full_text.append(j.full_text)"
   ]
  },
  {
   "cell_type": "code",
   "execution_count": 7,
   "metadata": {},
   "outputs": [],
   "source": [
    "df = pd.DataFrame({'Name' : name, 'Tweet Text' : full_text})\n",
    "pd.set_option('display.max_colwidth', -1)\n",
    "pd.set_option('display.max_columns', None)"
   ]
  },
  {
   "cell_type": "code",
   "execution_count": 8,
   "metadata": {},
   "outputs": [
    {
     "data": {
      "text/html": [
       "<div>\n",
       "<style scoped>\n",
       "    .dataframe tbody tr th:only-of-type {\n",
       "        vertical-align: middle;\n",
       "    }\n",
       "\n",
       "    .dataframe tbody tr th {\n",
       "        vertical-align: top;\n",
       "    }\n",
       "\n",
       "    .dataframe thead th {\n",
       "        text-align: right;\n",
       "    }\n",
       "</style>\n",
       "<table border=\"1\" class=\"dataframe\">\n",
       "  <thead>\n",
       "    <tr style=\"text-align: right;\">\n",
       "      <th></th>\n",
       "      <th>Name</th>\n",
       "      <th>Tweet Text</th>\n",
       "    </tr>\n",
       "  </thead>\n",
       "  <tbody>\n",
       "    <tr>\n",
       "      <td>0</td>\n",
       "      <td>BBC</td>\n",
       "      <td>\"If any good can come of me sharing my experience, I hope it's that it encourages more men to be vocal and not keep their feelings bottled up.\"\\n\\n@professorgreen: Suicide and Me | Via @bbcthree.\\n\\nhttps://t.co/rWxWBp4huj</td>\n",
       "    </tr>\n",
       "    <tr>\n",
       "      <td>1</td>\n",
       "      <td>BBC</td>\n",
       "      <td>RT @BBCTheOneShow: In support of #MentalHealthAwarenessWeek @professorgreen, @craigdavid, @jamesarthur23 and @snowpatrol's Gary Lightbody t…</td>\n",
       "    </tr>\n",
       "    <tr>\n",
       "      <td>2</td>\n",
       "      <td>BBC</td>\n",
       "      <td>Israeli investors develop face mask with remote-controlled mouth hole.\\nhttps://t.co/NHFpQqUvk5</td>\n",
       "    </tr>\n",
       "    <tr>\n",
       "      <td>3</td>\n",
       "      <td>BBC</td>\n",
       "      <td>The Duke of Cambridge, Gareth Southgate and this team of football royalty kick off an important discussion on men’s mental health. \\n\\n#ARoyalTeamTalk is streaming now on @BBCiPlayer.\\nhttps://t.co/QVQVq1sLVz</td>\n",
       "    </tr>\n",
       "    <tr>\n",
       "      <td>4</td>\n",
       "      <td>BBC</td>\n",
       "      <td>Who haven't we heard from yet on Coronavirus? Oh right, Philomena Cunk! \\n\\n@charltonbrooker's #AntiviralWipe is streaming now on @BBCiPlayer.\\nhttps://t.co/lr0VXkNMAN</td>\n",
       "    </tr>\n",
       "    <tr>\n",
       "      <td>...</td>\n",
       "      <td>...</td>\n",
       "      <td>...</td>\n",
       "    </tr>\n",
       "    <tr>\n",
       "      <td>495</td>\n",
       "      <td>The New York Times</td>\n",
       "      <td>In Opinion\\n\\nSonia Faleiro writes: The British government has sent out a clear message: \"The work of ethnic minorities may be essential. But their lives are expendable.\" \\nhttps://t.co/tE4WXTaUYa</td>\n",
       "    </tr>\n",
       "    <tr>\n",
       "      <td>496</td>\n",
       "      <td>The New York Times</td>\n",
       "      <td>Nita Pippins moved to New York to care for her dyings on. Instead of returning home, she dedicated herself to AIDS patients during the worst of the epidemic.\\n\\nShe died May 10 from the coronavirus. She was 93.\\nhttps://t.co/z2DrcmFFSU</td>\n",
       "    </tr>\n",
       "    <tr>\n",
       "      <td>497</td>\n",
       "      <td>The New York Times</td>\n",
       "      <td>On Thursday, China proposed security laws that could effectively subvert Hong Kong’s remaining freedoms and bring it under full Chinese control. Here are some basic questions and answers on China’s action and the possible repercussions. https://t.co/375sqrujR5</td>\n",
       "    </tr>\n",
       "    <tr>\n",
       "      <td>498</td>\n",
       "      <td>The New York Times</td>\n",
       "      <td>“You can make money no matter if the price rises or falls,” said an ad for Bank of China's crude oil investment product. As Chinese investors discovered, that wasn't exactly true. https://t.co/QeYF3Hc6o1</td>\n",
       "    </tr>\n",
       "    <tr>\n",
       "      <td>499</td>\n",
       "      <td>The New York Times</td>\n",
       "      <td>RT @salmanmasood: In parts of India and Pakistan, conditions during the hotter months could make the virus less than half as likely to infe…</td>\n",
       "    </tr>\n",
       "  </tbody>\n",
       "</table>\n",
       "<p>500 rows × 2 columns</p>\n",
       "</div>"
      ],
      "text/plain": [
       "                   Name  \\\n",
       "0    BBC                  \n",
       "1    BBC                  \n",
       "2    BBC                  \n",
       "3    BBC                  \n",
       "4    BBC                  \n",
       "..   ...                  \n",
       "495  The New York Times   \n",
       "496  The New York Times   \n",
       "497  The New York Times   \n",
       "498  The New York Times   \n",
       "499  The New York Times   \n",
       "\n",
       "                                                                                                                                                                                                                                                               Tweet Text  \n",
       "0    \"If any good can come of me sharing my experience, I hope it's that it encourages more men to be vocal and not keep their feelings bottled up.\"\\n\\n@professorgreen: Suicide and Me | Via @bbcthree.\\n\\nhttps://t.co/rWxWBp4huj                                        \n",
       "1    RT @BBCTheOneShow: In support of #MentalHealthAwarenessWeek @professorgreen, @craigdavid, @jamesarthur23 and @snowpatrol's Gary Lightbody t…                                                                                                                          \n",
       "2    Israeli investors develop face mask with remote-controlled mouth hole.\\nhttps://t.co/NHFpQqUvk5                                                                                                                                                                       \n",
       "3    The Duke of Cambridge, Gareth Southgate and this team of football royalty kick off an important discussion on men’s mental health. \\n\\n#ARoyalTeamTalk is streaming now on @BBCiPlayer.\\nhttps://t.co/QVQVq1sLVz                                                      \n",
       "4    Who haven't we heard from yet on Coronavirus? Oh right, Philomena Cunk! \\n\\n@charltonbrooker's #AntiviralWipe is streaming now on @BBCiPlayer.\\nhttps://t.co/lr0VXkNMAN                                                                                               \n",
       "..                                                                                                                                                                       ...                                                                                               \n",
       "495  In Opinion\\n\\nSonia Faleiro writes: The British government has sent out a clear message: \"The work of ethnic minorities may be essential. But their lives are expendable.\" \\nhttps://t.co/tE4WXTaUYa                                                                  \n",
       "496  Nita Pippins moved to New York to care for her dyings on. Instead of returning home, she dedicated herself to AIDS patients during the worst of the epidemic.\\n\\nShe died May 10 from the coronavirus. She was 93.\\nhttps://t.co/z2DrcmFFSU                           \n",
       "497  On Thursday, China proposed security laws that could effectively subvert Hong Kong’s remaining freedoms and bring it under full Chinese control. Here are some basic questions and answers on China’s action and the possible repercussions. https://t.co/375sqrujR5  \n",
       "498  “You can make money no matter if the price rises or falls,” said an ad for Bank of China's crude oil investment product. As Chinese investors discovered, that wasn't exactly true. https://t.co/QeYF3Hc6o1                                                           \n",
       "499  RT @salmanmasood: In parts of India and Pakistan, conditions during the hotter months could make the virus less than half as likely to infe…                                                                                                                          \n",
       "\n",
       "[500 rows x 2 columns]"
      ]
     },
     "execution_count": 8,
     "metadata": {},
     "output_type": "execute_result"
    }
   ],
   "source": [
    "df"
   ]
  },
  {
   "cell_type": "code",
   "execution_count": 9,
   "metadata": {},
   "outputs": [],
   "source": [
    "base_name = df.loc[0,'Name']\n",
    "counter = 0 \n",
    "for index, row in df.iterrows():\n",
    "    if row['Name'] == base_name:\n",
    "        df.loc[index,'Tweets Ago'] = counter\n",
    "        counter +=1\n",
    "    if row['Name'] != base_name:\n",
    "        counter = 0\n",
    "        df.loc[index,'Tweets Ago'] = counter\n",
    "        base_name = row['Name']\n",
    "        counter +=1"
   ]
  },
  {
   "cell_type": "code",
   "execution_count": 10,
   "metadata": {},
   "outputs": [],
   "source": [
    "for index, row in df.iterrows():\n",
    "    tweet = row['Tweet Text']\n",
    "    results = analyzer.polarity_scores(f'{tweet}')\n",
    "    df.loc[index, 'Compound'] = results['compound']\n",
    "    df.loc[index, 'Positive'] = results['pos']\n",
    "    df.loc[index, 'Neutral'] = results['neu']\n",
    "    df.loc[index, 'Negative'] = results['neg']\n",
    "    "
   ]
  },
  {
   "cell_type": "code",
   "execution_count": 13,
   "metadata": {},
   "outputs": [
    {
     "data": {
      "text/html": [
       "<div>\n",
       "<style scoped>\n",
       "    .dataframe tbody tr th:only-of-type {\n",
       "        vertical-align: middle;\n",
       "    }\n",
       "\n",
       "    .dataframe tbody tr th {\n",
       "        vertical-align: top;\n",
       "    }\n",
       "\n",
       "    .dataframe thead th {\n",
       "        text-align: right;\n",
       "    }\n",
       "</style>\n",
       "<table border=\"1\" class=\"dataframe\">\n",
       "  <thead>\n",
       "    <tr style=\"text-align: right;\">\n",
       "      <th></th>\n",
       "      <th>Name</th>\n",
       "      <th>Tweet Text</th>\n",
       "      <th>Tweets Ago</th>\n",
       "      <th>Compound</th>\n",
       "      <th>Positive</th>\n",
       "      <th>Neutral</th>\n",
       "      <th>Negative</th>\n",
       "    </tr>\n",
       "  </thead>\n",
       "  <tbody>\n",
       "    <tr>\n",
       "      <td>0</td>\n",
       "      <td>BBC</td>\n",
       "      <td>\"If any good can come of me sharing my experience, I hope it's that it encourages more men to be vocal and not keep their feelings bottled up.\"\\n\\n@professorgreen: Suicide and Me | Via @bbcthree.\\n\\nhttps://t.co/rWxWBp4huj</td>\n",
       "      <td>0.0</td>\n",
       "      <td>0.7184</td>\n",
       "      <td>0.245</td>\n",
       "      <td>0.660</td>\n",
       "      <td>0.096</td>\n",
       "    </tr>\n",
       "    <tr>\n",
       "      <td>1</td>\n",
       "      <td>BBC</td>\n",
       "      <td>RT @BBCTheOneShow: In support of #MentalHealthAwarenessWeek @professorgreen, @craigdavid, @jamesarthur23 and @snowpatrol's Gary Lightbody t…</td>\n",
       "      <td>1.0</td>\n",
       "      <td>0.4019</td>\n",
       "      <td>0.172</td>\n",
       "      <td>0.828</td>\n",
       "      <td>0.000</td>\n",
       "    </tr>\n",
       "    <tr>\n",
       "      <td>2</td>\n",
       "      <td>BBC</td>\n",
       "      <td>Israeli investors develop face mask with remote-controlled mouth hole.\\nhttps://t.co/NHFpQqUvk5</td>\n",
       "      <td>2.0</td>\n",
       "      <td>0.0000</td>\n",
       "      <td>0.000</td>\n",
       "      <td>1.000</td>\n",
       "      <td>0.000</td>\n",
       "    </tr>\n",
       "    <tr>\n",
       "      <td>3</td>\n",
       "      <td>BBC</td>\n",
       "      <td>The Duke of Cambridge, Gareth Southgate and this team of football royalty kick off an important discussion on men’s mental health. \\n\\n#ARoyalTeamTalk is streaming now on @BBCiPlayer.\\nhttps://t.co/QVQVq1sLVz</td>\n",
       "      <td>3.0</td>\n",
       "      <td>0.2023</td>\n",
       "      <td>0.062</td>\n",
       "      <td>0.938</td>\n",
       "      <td>0.000</td>\n",
       "    </tr>\n",
       "    <tr>\n",
       "      <td>4</td>\n",
       "      <td>BBC</td>\n",
       "      <td>Who haven't we heard from yet on Coronavirus? Oh right, Philomena Cunk! \\n\\n@charltonbrooker's #AntiviralWipe is streaming now on @BBCiPlayer.\\nhttps://t.co/lr0VXkNMAN</td>\n",
       "      <td>4.0</td>\n",
       "      <td>0.0000</td>\n",
       "      <td>0.000</td>\n",
       "      <td>1.000</td>\n",
       "      <td>0.000</td>\n",
       "    </tr>\n",
       "    <tr>\n",
       "      <td>...</td>\n",
       "      <td>...</td>\n",
       "      <td>...</td>\n",
       "      <td>...</td>\n",
       "      <td>...</td>\n",
       "      <td>...</td>\n",
       "      <td>...</td>\n",
       "      <td>...</td>\n",
       "    </tr>\n",
       "    <tr>\n",
       "      <td>495</td>\n",
       "      <td>The New York Times</td>\n",
       "      <td>In Opinion\\n\\nSonia Faleiro writes: The British government has sent out a clear message: \"The work of ethnic minorities may be essential. But their lives are expendable.\" \\nhttps://t.co/tE4WXTaUYa</td>\n",
       "      <td>95.0</td>\n",
       "      <td>0.2023</td>\n",
       "      <td>0.062</td>\n",
       "      <td>0.938</td>\n",
       "      <td>0.000</td>\n",
       "    </tr>\n",
       "    <tr>\n",
       "      <td>496</td>\n",
       "      <td>The New York Times</td>\n",
       "      <td>Nita Pippins moved to New York to care for her dyings on. Instead of returning home, she dedicated herself to AIDS patients during the worst of the epidemic.\\n\\nShe died May 10 from the coronavirus. She was 93.\\nhttps://t.co/z2DrcmFFSU</td>\n",
       "      <td>96.0</td>\n",
       "      <td>-0.3612</td>\n",
       "      <td>0.127</td>\n",
       "      <td>0.716</td>\n",
       "      <td>0.157</td>\n",
       "    </tr>\n",
       "    <tr>\n",
       "      <td>497</td>\n",
       "      <td>The New York Times</td>\n",
       "      <td>On Thursday, China proposed security laws that could effectively subvert Hong Kong’s remaining freedoms and bring it under full Chinese control. Here are some basic questions and answers on China’s action and the possible repercussions. https://t.co/375sqrujR5</td>\n",
       "      <td>97.0</td>\n",
       "      <td>0.7579</td>\n",
       "      <td>0.185</td>\n",
       "      <td>0.815</td>\n",
       "      <td>0.000</td>\n",
       "    </tr>\n",
       "    <tr>\n",
       "      <td>498</td>\n",
       "      <td>The New York Times</td>\n",
       "      <td>“You can make money no matter if the price rises or falls,” said an ad for Bank of China's crude oil investment product. As Chinese investors discovered, that wasn't exactly true. https://t.co/QeYF3Hc6o1</td>\n",
       "      <td>98.0</td>\n",
       "      <td>-0.7274</td>\n",
       "      <td>0.000</td>\n",
       "      <td>0.803</td>\n",
       "      <td>0.197</td>\n",
       "    </tr>\n",
       "    <tr>\n",
       "      <td>499</td>\n",
       "      <td>The New York Times</td>\n",
       "      <td>RT @salmanmasood: In parts of India and Pakistan, conditions during the hotter months could make the virus less than half as likely to infe…</td>\n",
       "      <td>99.0</td>\n",
       "      <td>0.0000</td>\n",
       "      <td>0.000</td>\n",
       "      <td>1.000</td>\n",
       "      <td>0.000</td>\n",
       "    </tr>\n",
       "  </tbody>\n",
       "</table>\n",
       "<p>500 rows × 7 columns</p>\n",
       "</div>"
      ],
      "text/plain": [
       "                   Name  \\\n",
       "0    BBC                  \n",
       "1    BBC                  \n",
       "2    BBC                  \n",
       "3    BBC                  \n",
       "4    BBC                  \n",
       "..   ...                  \n",
       "495  The New York Times   \n",
       "496  The New York Times   \n",
       "497  The New York Times   \n",
       "498  The New York Times   \n",
       "499  The New York Times   \n",
       "\n",
       "                                                                                                                                                                                                                                                               Tweet Text  \\\n",
       "0    \"If any good can come of me sharing my experience, I hope it's that it encourages more men to be vocal and not keep their feelings bottled up.\"\\n\\n@professorgreen: Suicide and Me | Via @bbcthree.\\n\\nhttps://t.co/rWxWBp4huj                                         \n",
       "1    RT @BBCTheOneShow: In support of #MentalHealthAwarenessWeek @professorgreen, @craigdavid, @jamesarthur23 and @snowpatrol's Gary Lightbody t…                                                                                                                           \n",
       "2    Israeli investors develop face mask with remote-controlled mouth hole.\\nhttps://t.co/NHFpQqUvk5                                                                                                                                                                        \n",
       "3    The Duke of Cambridge, Gareth Southgate and this team of football royalty kick off an important discussion on men’s mental health. \\n\\n#ARoyalTeamTalk is streaming now on @BBCiPlayer.\\nhttps://t.co/QVQVq1sLVz                                                       \n",
       "4    Who haven't we heard from yet on Coronavirus? Oh right, Philomena Cunk! \\n\\n@charltonbrooker's #AntiviralWipe is streaming now on @BBCiPlayer.\\nhttps://t.co/lr0VXkNMAN                                                                                                \n",
       "..                                                                                                                                                                       ...                                                                                                \n",
       "495  In Opinion\\n\\nSonia Faleiro writes: The British government has sent out a clear message: \"The work of ethnic minorities may be essential. But their lives are expendable.\" \\nhttps://t.co/tE4WXTaUYa                                                                   \n",
       "496  Nita Pippins moved to New York to care for her dyings on. Instead of returning home, she dedicated herself to AIDS patients during the worst of the epidemic.\\n\\nShe died May 10 from the coronavirus. She was 93.\\nhttps://t.co/z2DrcmFFSU                            \n",
       "497  On Thursday, China proposed security laws that could effectively subvert Hong Kong’s remaining freedoms and bring it under full Chinese control. Here are some basic questions and answers on China’s action and the possible repercussions. https://t.co/375sqrujR5   \n",
       "498  “You can make money no matter if the price rises or falls,” said an ad for Bank of China's crude oil investment product. As Chinese investors discovered, that wasn't exactly true. https://t.co/QeYF3Hc6o1                                                            \n",
       "499  RT @salmanmasood: In parts of India and Pakistan, conditions during the hotter months could make the virus less than half as likely to infe…                                                                                                                           \n",
       "\n",
       "     Tweets Ago  Compound  Positive  Neutral  Negative  \n",
       "0    0.0         0.7184    0.245     0.660    0.096     \n",
       "1    1.0         0.4019    0.172     0.828    0.000     \n",
       "2    2.0         0.0000    0.000     1.000    0.000     \n",
       "3    3.0         0.2023    0.062     0.938    0.000     \n",
       "4    4.0         0.0000    0.000     1.000    0.000     \n",
       "..   ...            ...      ...       ...      ...     \n",
       "495  95.0        0.2023    0.062     0.938    0.000     \n",
       "496  96.0       -0.3612    0.127     0.716    0.157     \n",
       "497  97.0        0.7579    0.185     0.815    0.000     \n",
       "498  98.0       -0.7274    0.000     0.803    0.197     \n",
       "499  99.0        0.0000    0.000     1.000    0.000     \n",
       "\n",
       "[500 rows x 7 columns]"
      ]
     },
     "execution_count": 13,
     "metadata": {},
     "output_type": "execute_result"
    }
   ],
   "source": [
    "df"
   ]
  },
  {
   "cell_type": "code",
   "execution_count": 14,
   "metadata": {},
   "outputs": [],
   "source": [
    "x = df.iloc[0:100,2]\n",
    "\n",
    "bbc_df = df['Name'] == 'BBC'\n",
    "cnn_df = df['Name'] == 'CNN'\n",
    "cbs_df = df['Name'] == 'CBS News'\n",
    "fox_df = df['Name'] == 'Fox News'\n",
    "nyt_df = df['Name'] == 'The New York Times'\n",
    "\n",
    "bbc = df.loc[bbc_df]\n",
    "cnn = df.loc[cnn_df]\n",
    "cbs = df.loc[cbs_df]\n",
    "fox = df.loc[fox_df]\n",
    "nyt = df.loc[nyt_df]\n",
    "\n",
    "bbc = bbc['Compound']\n",
    "cnn = cnn['Compound']\n",
    "cbs = cbs['Compound']\n",
    "fox = fox['Compound']\n",
    "nyt = nyt['Compound']"
   ]
  },
  {
   "cell_type": "code",
   "execution_count": 15,
   "metadata": {},
   "outputs": [
    {
     "data": {
      "image/png": "[encoded data removed]",
      "text/plain": [
       "<Figure size 432x288 with 1 Axes>"
      ]
     },
     "metadata": {
      "needs_background": "light"
     },
     "output_type": "display_data"
    }
   ],
   "source": [
    "plt.scatter(x,bbc, color = 'blue')\n",
    "plt.scatter(x,cnn, color = 'green')\n",
    "plt.scatter(x,cbs, color = 'orange')\n",
    "plt.scatter(x,fox, color = 'red')\n",
    "plt.scatter(x,nyt, color = 'purple')\n",
    "plt.xticks(rotation = 45)\n",
    "plt.title('Sentiment Analysis of Major Media Outlet Tweets')\n",
    "plt.xlabel(\"Tweets Ago\")\n",
    "plt.ylabel(\"Compound Score\")\n",
    "plt.grid(True)\n",
    "plt.savefig('Fig1')"
   ]
  },
  {
   "cell_type": "code",
   "execution_count": 16,
   "metadata": {},
   "outputs": [
    {
     "data": {
      "text/html": [
       "<div>\n",
       "<style scoped>\n",
       "    .dataframe tbody tr th:only-of-type {\n",
       "        vertical-align: middle;\n",
       "    }\n",
       "\n",
       "    .dataframe tbody tr th {\n",
       "        vertical-align: top;\n",
       "    }\n",
       "\n",
       "    .dataframe thead th {\n",
       "        text-align: right;\n",
       "    }\n",
       "</style>\n",
       "<table border=\"1\" class=\"dataframe\">\n",
       "  <thead>\n",
       "    <tr style=\"text-align: right;\">\n",
       "      <th></th>\n",
       "      <th>Compound</th>\n",
       "    </tr>\n",
       "    <tr>\n",
       "      <th>Name</th>\n",
       "      <th></th>\n",
       "    </tr>\n",
       "  </thead>\n",
       "  <tbody>\n",
       "    <tr>\n",
       "      <td>BBC</td>\n",
       "      <td>0.304861</td>\n",
       "    </tr>\n",
       "    <tr>\n",
       "      <td>CBS News</td>\n",
       "      <td>0.062012</td>\n",
       "    </tr>\n",
       "    <tr>\n",
       "      <td>CNN</td>\n",
       "      <td>0.030921</td>\n",
       "    </tr>\n",
       "    <tr>\n",
       "      <td>Fox News</td>\n",
       "      <td>0.005423</td>\n",
       "    </tr>\n",
       "    <tr>\n",
       "      <td>The New York Times</td>\n",
       "      <td>-0.014172</td>\n",
       "    </tr>\n",
       "  </tbody>\n",
       "</table>\n",
       "</div>"
      ],
      "text/plain": [
       "                    Compound\n",
       "Name                        \n",
       "BBC                 0.304861\n",
       "CBS News            0.062012\n",
       "CNN                 0.030921\n",
       "Fox News            0.005423\n",
       "The New York Times -0.014172"
      ]
     },
     "execution_count": 16,
     "metadata": {},
     "output_type": "execute_result"
    }
   ],
   "source": [
    "polarity = df.groupby(['Name']).mean()[\"Compound\"]\n",
    "pd.DataFrame(polarity)"
   ]
  },
  {
   "cell_type": "code",
   "execution_count": 17,
   "metadata": {},
   "outputs": [
    {
     "data": {
      "image/png": "[encoded data removed]",
      "text/plain": [
       "<Figure size 432x288 with 1 Axes>"
      ]
     },
     "metadata": {
      "needs_background": "light"
     },
     "output_type": "display_data"
    }
   ],
   "source": [
    "fig, ax = plt.subplots()\n",
    "x = np.arange(len(polarity))\n",
    "bbc = ax.bar(x[0], polarity[0], color = 'blue')\n",
    "cbs = ax.bar(x[1], polarity[1], color = 'orange')\n",
    "cnn = ax.bar(x[2], polarity[2], color = 'green')\n",
    "fox = ax.bar(x[3], polarity[3], color = 'red')\n",
    "nyt = ax.bar(x[4], polarity[4], color = 'purple')\n",
    "ax.set_ylabel(\"Tweet Polarity\")\n",
    "ax.set_title(\"Overall Media Sentiment based on Twitter\")\n",
    "ax.set_xticks(x + 0.5)\n",
    "ax.set_xticklabels((\"BBC\", \"CBS\", \"CNN\", \"Fox\", \"NYT\"))\n",
    "ax.grid(False)\n",
    "plt.savefig('Fig2')"
   ]
  },
  {
   "cell_type": "code",
   "execution_count": null,
   "metadata": {},
   "outputs": [],
   "source": [
    "#FoxNews does NOT put text in their tweets - only links to articles. Therefore VADER cannot assign a score"
   ]
  }
 ],
 "metadata": {
  "kernelspec": {
   "display_name": "Python 3",
   "language": "python",
   "name": "python3"
  },
  "language_info": {
   "codemirror_mode": {
    "name": "ipython",
    "version": 3
   },
   "file_extension": ".py",
   "mimetype": "text/x-python",
   "name": "python",
   "nbconvert_exporter": "python",
   "pygments_lexer": "ipython3",
   "version": "3.7.4"
  }
 },
 "nbformat": 4,
 "nbformat_minor": 2
}
