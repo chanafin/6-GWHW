{
 "cells": [
  {
   "cell_type": "code",
   "execution_count": null,
   "metadata": {},
   "outputs": [],
   "source": [
    "# !pip install vaderSentiment\n",
    "import tweepy\n",
    "import json\n",
    "import pandas as pd\n",
    "import os\n",
    "import matplotlib.pyplot as plt\n",
    "import numpy as np\n",
    "from scipy.stats import linregress\n",
    "\n",
    "#Import sentiment analyzer\n",
    "from vaderSentiment.vaderSentiment import SentimentIntensityAnalyzer\n",
    "from api_keys import consumer_key, consumer_secret, access_token, access_token_secret\n",
    "#\n",
    "analyzer = SentimentIntensityAnalyzer()"
   ]
  },
  {
   "cell_type": "code",
   "execution_count": null,
   "metadata": {},
   "outputs": [],
   "source": [
    "#Instantiate Authentication / Wrapper\n",
    "auth = tweepy.OAuthHandler(consumer_key, consumer_secret)\n",
    "auth.set_access_token(access_token, access_token_secret)\n",
    "api = tweepy.API(auth)"
   ]
  },
  {
   "cell_type": "code",
   "execution_count": null,
   "metadata": {},
   "outputs": [],
   "source": [
    "#Observe 5 different Twitter accounts from Major Media\n",
    "handles = ['BBC', 'CBSNews', 'CNN', 'FoxNews', 'nytimes']"
   ]
  },
  {
   "cell_type": "code",
   "execution_count": null,
   "metadata": {},
   "outputs": [],
   "source": [
    "#Create Empty Lists for Tweets\n",
    "tweets = []\n",
    "name = []\n",
    "full_text = []"
   ]
  },
  {
   "cell_type": "code",
   "execution_count": null,
   "metadata": {},
   "outputs": [],
   "source": [
    "#Loop through handles and compile last 100 tweets from each\n",
    "for i in handles:\n",
    "    tweets = tweepy.Cursor(api.user_timeline, i, tweet_mode='extended').items(100)\n",
    "    for j in tweets:\n",
    "        name.append(j.author.name)\n",
    "        full_text.append(j.full_text)"
   ]
  },
  {
   "cell_type": "code",
   "execution_count": null,
   "metadata": {},
   "outputs": [],
   "source": [
    "#Create DataFrame with Tweets\n",
    "twitter_df = pd.DataFrame({'Name' : name, 'Tweet Text' : full_text})\n",
    "pd.set_option('display.max_colwidth', -1)\n",
    "pd.set_option('display.max_columns', None)\n",
    "twitter_df"
   ]
  },
  {
   "cell_type": "code",
   "execution_count": null,
   "metadata": {},
   "outputs": [],
   "source": [
    "#Give each tweet an index # that resets once the name of the handle changes\n",
    "base_name = twitter_df.loc[0,'Name']\n",
    "counter = 0 \n",
    "for index, row in twitter_df.iterrows():\n",
    "    if row['Name'] == base_name:\n",
    "        twitter_df.loc[index,'Tweets Ago'] = counter\n",
    "        counter +=1\n",
    "    if row['Name'] != base_name:\n",
    "        counter = 0\n",
    "        twitter_df.loc[index,'Tweets Ago'] = counter\n",
    "        base_name = row['Name']\n",
    "        counter +=1"
   ]
  },
  {
   "cell_type": "code",
   "execution_count": null,
   "metadata": {},
   "outputs": [],
   "source": [
    "#Analyze the Sentiment of each Tweet\n",
    "for index, row in twitter_df.iterrows():\n",
    "    tweet = row['Tweet Text']\n",
    "    results = analyzer.polarity_scores(f'{tweet}')\n",
    "    twitter_df.loc[index, 'Compound'] = results['compound']\n",
    "    twitter_df.loc[index, 'Positive'] = results['pos']\n",
    "    twitter_df.loc[index, 'Neutral'] = results['neu']\n",
    "    twitter_df.loc[index, 'Negative'] = results['neg']\n",
    "twitter_df.head()"
   ]
  },
  {
   "cell_type": "code",
   "execution_count": null,
   "metadata": {},
   "outputs": [],
   "source": [
    "#Create Plot Points for Graphs\n",
    "x = twitter_df.iloc[0:100,2]\n",
    "#\n",
    "bbc = twitter_df.loc[twitter_df['Name']=='BBC']['Compound']\n",
    "cnn = twitter_df.loc[twitter_df['Name']=='CNN']['Compound']\n",
    "cbs = twitter_df.loc[twitter_df['Name']== 'CBS News']['Compound']\n",
    "fox = twitter_df.loc[twitter_df['Name']=='Fox News']['Compound']\n",
    "nyt = twitter_df.loc[twitter_df['Name']=='The New York Times']['Compound']"
   ]
  },
  {
   "cell_type": "code",
   "execution_count": null,
   "metadata": {},
   "outputs": [],
   "source": [
    "plt.scatter(x,bbc, color = 'blue')\n",
    "plt.scatter(x,cnn, color = 'green')\n",
    "plt.scatter(x,cbs, color = 'orange')\n",
    "plt.scatter(x,fox, color = 'red')\n",
    "plt.scatter(x,nyt, color = 'purple')\n",
    "plt.xticks(rotation = 45)\n",
    "plt.title('Sentiment Analysis of Major Media Outlet Tweets')\n",
    "plt.xlabel(\"Tweets Ago\")\n",
    "plt.ylabel(\"Compound Score\")\n",
    "plt.grid(True)\n",
    "plt.legend()\n",
    "plt.savefig('output/tweepy/SentimentbyTweet')"
   ]
  },
  {
   "cell_type": "code",
   "execution_count": null,
   "metadata": {},
   "outputs": [],
   "source": [
    "polarity = twitter_df.groupby(['Name']).mean()[\"Compound\"]\n",
    "pd.DataFrame(polarity)"
   ]
  },
  {
   "cell_type": "code",
   "execution_count": null,
   "metadata": {},
   "outputs": [],
   "source": [
    "fig, ax = plt.subplots()\n",
    "x = np.arange(len(polarity))\n",
    "bbc = ax.bar(x[0], polarity[0], color = 'blue')\n",
    "cbs = ax.bar(x[1], polarity[1], color = 'orange')\n",
    "cnn = ax.bar(x[2], polarity[2], color = 'green')\n",
    "fox = ax.bar(x[3], polarity[3], color = 'red')\n",
    "nyt = ax.bar(x[4], polarity[4], color = 'purple')\n",
    "ax.set_ylabel(\"Tweet Polarity\")\n",
    "ax.set_title(\"Overall Media Sentiment based on Twitter\")\n",
    "ax.set_xticks(x + 0.5)\n",
    "ax.set_xticklabels((\"BBC\", \"CBS\", \"CNN\", \"Fox\", \"NYT\"))\n",
    "ax.grid(False)\n",
    "plt.savefig('output/tweepy/OverallSentiment')"
   ]
  },
  {
   "cell_type": "code",
   "execution_count": null,
   "metadata": {},
   "outputs": [],
   "source": [
    "#FoxNews does NOT put text in their tweets - only links to articles. Therefore VADER cannot assign a score"
   ]
  }
 ],
 "metadata": {
  "kernelspec": {
   "display_name": "Python 3",
   "language": "python",
   "name": "python3"
  },
  "language_info": {
   "codemirror_mode": {
    "name": "ipython",
    "version": 3
   },
   "file_extension": ".py",
   "mimetype": "text/x-python",
   "name": "python",
   "nbconvert_exporter": "python",
   "pygments_lexer": "ipython3",
   "version": "3.7.4"
  }
 },
 "nbformat": 4,
 "nbformat_minor": 2
}
